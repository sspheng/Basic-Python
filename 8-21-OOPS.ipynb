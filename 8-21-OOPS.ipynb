{
 "cells": [
  {
   "cell_type": "code",
   "execution_count": 2,
   "id": "6ef55668",
   "metadata": {},
   "outputs": [],
   "source": [
    "#a = 10   #variable\n",
    "my_country = \"India\""
   ]
  },
  {
   "cell_type": "code",
   "execution_count": 4,
   "id": "c9aaed21",
   "metadata": {},
   "outputs": [],
   "source": [
    "a9 = 'amit'"
   ]
  },
  {
   "cell_type": "code",
   "execution_count": 10,
   "id": "1aea6a56",
   "metadata": {},
   "outputs": [
    {
     "name": "stdout",
     "output_type": "stream",
     "text": [
      "36\n",
      "['False', 'None', 'True', '__peg_parser__', 'and', 'as', 'assert', 'async', 'await', 'break', 'class', 'continue', 'def', 'del', 'elif', 'else', 'except', 'finally', 'for', 'from', 'global', 'if', 'import', 'in', 'is', 'lambda', 'nonlocal', 'not', 'or', 'pass', 'raise', 'return', 'try', 'while', 'with', 'yield']\n"
     ]
    }
   ],
   "source": [
    "import keyword\n",
    "print(len(keyword.kwlist))\n",
    "print(keyword.kwlist)"
   ]
  },
  {
   "cell_type": "code",
   "execution_count": null,
   "id": "feb3b597",
   "metadata": {},
   "outputs": [],
   "source": [
    "# Looping \n",
    "print(\"Amit\")\n",
    "print('Amit')\n",
    "\n",
    "\n",
    "1. for loop\n",
    "2. while \n",
    "\n"
   ]
  },
  {
   "cell_type": "code",
   "execution_count": null,
   "id": "259db218",
   "metadata": {},
   "outputs": [],
   "source": [
    "#for loop\n",
    "\n",
    "for variableName in sequence:\n",
    "    stmt1\n",
    "    stmt2\n",
    "    stmt3\n",
    "    stmt4\n",
    "    stmtn\n",
    "print()"
   ]
  },
  {
   "cell_type": "code",
   "execution_count": null,
   "id": "0e8cf3c3",
   "metadata": {},
   "outputs": [],
   "source": [
    "Seq can be   \n",
    "1. string\n",
    "2. tuple\n",
    "3. list\n",
    "4. dict\n",
    "5. range"
   ]
  },
  {
   "cell_type": "code",
   "execution_count": 11,
   "id": "bc69c380",
   "metadata": {},
   "outputs": [
    {
     "name": "stdout",
     "output_type": "stream",
     "text": [
      "11\n",
      "12\n",
      "13\n",
      "14\n",
      "15\n"
     ]
    }
   ],
   "source": [
    "a = [11,12,13,14,15]\n",
    "print(a[0])\n",
    "print(a[1])\n",
    "print(a[2])\n",
    "print(a[3])\n",
    "print(a[4])"
   ]
  },
  {
   "cell_type": "code",
   "execution_count": 19,
   "id": "84a54a70",
   "metadata": {},
   "outputs": [
    {
     "name": "stdout",
     "output_type": "stream",
     "text": [
      "A\tm\ti\tt\t"
     ]
    }
   ],
   "source": [
    "a = 'Amit'\n",
    "for i in a:   #[11,12,13,14,15]\n",
    "    print(i,end ='\\t')"
   ]
  },
  {
   "cell_type": "code",
   "execution_count": 24,
   "id": "097aff49",
   "metadata": {},
   "outputs": [
    {
     "name": "stdout",
     "output_type": "stream",
     "text": [
      "0\n",
      "3\n"
     ]
    }
   ],
   "source": [
    "#range(start,end-1,steps)\n",
    "#range(1,)\n",
    "for i in range(0,6,3):    #0,1,2,3,4,5\n",
    "    print(i)"
   ]
  },
  {
   "cell_type": "code",
   "execution_count": null,
   "id": "3992c050",
   "metadata": {},
   "outputs": [],
   "source": [
    "#while loop\n",
    "intn  (option)\n",
    "while condition:\n",
    "    stmt1\n",
    "    stmt2\n",
    "    stmt3\n",
    "    updation(compulsary)\n"
   ]
  },
  {
   "cell_type": "code",
   "execution_count": 25,
   "id": "2839d7f2",
   "metadata": {},
   "outputs": [
    {
     "name": "stdout",
     "output_type": "stream",
     "text": [
      "amit\n",
      "amit\n",
      "amit\n",
      "amit\n",
      "amit\n",
      "amit\n",
      "amit\n",
      "amit\n",
      "amit\n",
      "amit\n",
      "I am outside of the loop\n"
     ]
    }
   ],
   "source": [
    "i=1\n",
    "while i<=10:\n",
    "    print('amit')\n",
    "    i=i+1   #updation\n",
    "    \n",
    "print(\"I am outside of the loop\")"
   ]
  },
  {
   "cell_type": "code",
   "execution_count": null,
   "id": "4320ab4b",
   "metadata": {},
   "outputs": [],
   "source": [
    "range(5)    0,1,2,3,4\n",
    "range(0,5)  0,1,2,3,4\n",
    "range(1,5)  1,2,3,4"
   ]
  },
  {
   "cell_type": "code",
   "execution_count": null,
   "id": "49e4544e",
   "metadata": {},
   "outputs": [],
   "source": []
  },
  {
   "cell_type": "code",
   "execution_count": 28,
   "id": "eb700f02",
   "metadata": {},
   "outputs": [
    {
     "name": "stdout",
     "output_type": "stream",
     "text": [
      "Enter the nuber234\n",
      "432\n"
     ]
    }
   ],
   "source": [
    "#reverse the given 3 digit nuber using while loop\n",
    "n = int(input(\"Enter the nuber\"))  #n=123, 12, 1\n",
    "rev = 0                            #rev=0, 3, 32, 321\n",
    "while n!=0:                        #digit = 3,2,1\n",
    "    digit = n%10     #SEPARATING THE DIGITS\n",
    "    rev=rev*10+digit  #logic\n",
    "    n=n//10   #updation \n",
    "print(rev)"
   ]
  },
  {
   "cell_type": "code",
   "execution_count": 32,
   "id": "8f47089a",
   "metadata": {},
   "outputs": [
    {
     "name": "stdout",
     "output_type": "stream",
     "text": [
      "Enter the nuber123\n",
      "123\n"
     ]
    }
   ],
   "source": [
    "n = input(\"Enter the nuber\")\n"
   ]
  },
  {
   "cell_type": "code",
   "execution_count": 42,
   "id": "6c7f1a78",
   "metadata": {},
   "outputs": [
    {
     "name": "stdout",
     "output_type": "stream",
     "text": [
      "0\n",
      "1\n"
     ]
    }
   ],
   "source": [
    "print(1//10)\n",
    "print(1%10)"
   ]
  },
  {
   "cell_type": "code",
   "execution_count": 45,
   "id": "e267942a",
   "metadata": {},
   "outputs": [
    {
     "name": "stdout",
     "output_type": "stream",
     "text": [
      "Enter the nuber121\n",
      "121\n",
      "Palindrome\n"
     ]
    }
   ],
   "source": [
    "#WAPC to check given number is palindrome or not \n",
    "\n",
    "\n",
    "n = int(input(\"Enter the nuber\")) \n",
    "temp =n                           #n=123, 12, 1,0\n",
    "rev = 0                            #rev=0, 3, 32, 321\n",
    "while n!=0:                        #digit = 3,2,1\n",
    "    digit = n%10     #SEPARATING THE DIGITS\n",
    "    rev=rev*10+digit  #logic\n",
    "    n=n//10   #updation \n",
    "print(rev)\n",
    "\n",
    "if rev ==temp:\n",
    "    print('Palindrome')\n",
    "else:\n",
    "    print('not')"
   ]
  },
  {
   "cell_type": "code",
   "execution_count": 46,
   "id": "2c0369b6",
   "metadata": {},
   "outputs": [
    {
     "name": "stdout",
     "output_type": "stream",
     "text": [
      "Enter the nuber153\n",
      "armstronge\n"
     ]
    }
   ],
   "source": [
    "#Armstrong number\n",
    "#153\n",
    "#1+125+27=153\n",
    "n = int(input(\"Enter the nuber\")) \n",
    "temp =n                           #n=123, 12, 1,0\n",
    "sum = 0                            #rev=0, 3, 32, 321\n",
    "while n!=0:                        #digit = 3,2,1\n",
    "    digit = n%10     #SEPARATING THE DIGITS\n",
    "    sum=sum+digit**3  #logic\n",
    "    n=n//10   #updation \n",
    "\n",
    "\n",
    "if sum ==temp:\n",
    "    print('armstronge')\n",
    "else:\n",
    "    print('not')\n"
   ]
  },
  {
   "cell_type": "markdown",
   "id": "0ecf70b8",
   "metadata": {},
   "source": [
    "# Functions\n",
    "\n",
    "1. User defined function\n",
    "2. Inbuild function\n"
   ]
  },
  {
   "cell_type": "code",
   "execution_count": 49,
   "id": "b07f2098",
   "metadata": {},
   "outputs": [
    {
     "data": {
      "text/plain": [
       "2.0"
      ]
     },
     "execution_count": 49,
     "metadata": {},
     "output_type": "execute_result"
    }
   ],
   "source": [
    "#2. Inbuild function\n",
    "\n",
    "import math\n",
    "math.sqrt(4)"
   ]
  },
  {
   "cell_type": "code",
   "execution_count": 50,
   "id": "9488132d",
   "metadata": {},
   "outputs": [
    {
     "data": {
      "text/plain": [
       "['__doc__',\n",
       " '__loader__',\n",
       " '__name__',\n",
       " '__package__',\n",
       " '__spec__',\n",
       " 'acos',\n",
       " 'acosh',\n",
       " 'asin',\n",
       " 'asinh',\n",
       " 'atan',\n",
       " 'atan2',\n",
       " 'atanh',\n",
       " 'ceil',\n",
       " 'comb',\n",
       " 'copysign',\n",
       " 'cos',\n",
       " 'cosh',\n",
       " 'degrees',\n",
       " 'dist',\n",
       " 'e',\n",
       " 'erf',\n",
       " 'erfc',\n",
       " 'exp',\n",
       " 'expm1',\n",
       " 'fabs',\n",
       " 'factorial',\n",
       " 'floor',\n",
       " 'fmod',\n",
       " 'frexp',\n",
       " 'fsum',\n",
       " 'gamma',\n",
       " 'gcd',\n",
       " 'hypot',\n",
       " 'inf',\n",
       " 'isclose',\n",
       " 'isfinite',\n",
       " 'isinf',\n",
       " 'isnan',\n",
       " 'isqrt',\n",
       " 'lcm',\n",
       " 'ldexp',\n",
       " 'lgamma',\n",
       " 'log',\n",
       " 'log10',\n",
       " 'log1p',\n",
       " 'log2',\n",
       " 'modf',\n",
       " 'nan',\n",
       " 'nextafter',\n",
       " 'perm',\n",
       " 'pi',\n",
       " 'pow',\n",
       " 'prod',\n",
       " 'radians',\n",
       " 'remainder',\n",
       " 'sin',\n",
       " 'sinh',\n",
       " 'sqrt',\n",
       " 'tan',\n",
       " 'tanh',\n",
       " 'tau',\n",
       " 'trunc',\n",
       " 'ulp']"
      ]
     },
     "execution_count": 50,
     "metadata": {},
     "output_type": "execute_result"
    }
   ],
   "source": [
    "dir(math)"
   ]
  },
  {
   "cell_type": "code",
   "execution_count": 54,
   "id": "4a7f8540",
   "metadata": {},
   "outputs": [
    {
     "data": {
      "text/plain": [
       "12"
      ]
     },
     "execution_count": 54,
     "metadata": {},
     "output_type": "execute_result"
    }
   ],
   "source": [
    "math.floor(12.3)"
   ]
  },
  {
   "cell_type": "code",
   "execution_count": 55,
   "id": "2d3c2339",
   "metadata": {},
   "outputs": [
    {
     "data": {
      "text/plain": [
       "2.718281828459045"
      ]
     },
     "execution_count": 55,
     "metadata": {},
     "output_type": "execute_result"
    }
   ],
   "source": [
    "math.e"
   ]
  },
  {
   "cell_type": "code",
   "execution_count": null,
   "id": "f75fdda8",
   "metadata": {},
   "outputs": [],
   "source": [
    "#User defined function\n",
    "\n",
    "#1. function defination\n",
    "#2. function call\n",
    "\n",
    "#1. Function defination\n",
    "#Syntax\n",
    "def functionName(parameters(input to function)):\n",
    "    stmt1\n",
    "    stmt2\n",
    "    stmt3\n",
    "    stmtn"
   ]
  },
  {
   "cell_type": "code",
   "execution_count": null,
   "id": "8be4f052",
   "metadata": {},
   "outputs": [],
   "source": [
    "#2. Function call\n",
    "functionName(parameters(input to function))"
   ]
  },
  {
   "cell_type": "code",
   "execution_count": 80,
   "id": "912433c1",
   "metadata": {},
   "outputs": [],
   "source": [
    "def addition(a,b,c):\n",
    "    return a+b+c\n",
    "    #print('This function is doing addition of a b and c')"
   ]
  },
  {
   "cell_type": "code",
   "execution_count": 64,
   "id": "599e8685",
   "metadata": {},
   "outputs": [
    {
     "name": "stdout",
     "output_type": "stream",
     "text": [
      "9\n",
      "This function is doing addition of a b and c\n"
     ]
    }
   ],
   "source": [
    "addition(2,3,4)"
   ]
  },
  {
   "cell_type": "code",
   "execution_count": 66,
   "id": "053e4bd5",
   "metadata": {},
   "outputs": [
    {
     "name": "stdout",
     "output_type": "stream",
     "text": [
      "Enter first number12\n",
      "Enter second number34\n",
      "Enter third number1\n",
      "47\n",
      "This function is doing addition of a b and c\n"
     ]
    }
   ],
   "source": [
    "\n",
    "addition(int(input('Enter first number')),int(input('Enter second number')),int(input('Enter third number')))"
   ]
  },
  {
   "cell_type": "code",
   "execution_count": 68,
   "id": "079e4212",
   "metadata": {},
   "outputs": [],
   "source": [
    "def Demo():\n",
    "    print('Hi This is a function that doesnot take any input')"
   ]
  },
  {
   "cell_type": "code",
   "execution_count": 69,
   "id": "b17f224c",
   "metadata": {},
   "outputs": [
    {
     "name": "stdout",
     "output_type": "stream",
     "text": [
      "Hi This is a function that doesnot take any input\n"
     ]
    }
   ],
   "source": [
    "Demo()"
   ]
  },
  {
   "cell_type": "code",
   "execution_count": 70,
   "id": "7e68f788",
   "metadata": {},
   "outputs": [],
   "source": [
    "#Returning the result\n",
    "def substration(a,b,c):\n",
    "    return a-b-c\n",
    "    "
   ]
  },
  {
   "cell_type": "code",
   "execution_count": 73,
   "id": "cb2f1ab4",
   "metadata": {},
   "outputs": [
    {
     "name": "stdout",
     "output_type": "stream",
     "text": [
      "-5\n"
     ]
    }
   ],
   "source": [
    "res = substration(2,3,4)\n",
    "print(res)"
   ]
  },
  {
   "cell_type": "code",
   "execution_count": 74,
   "id": "72ed3ad5",
   "metadata": {},
   "outputs": [
    {
     "name": "stdout",
     "output_type": "stream",
     "text": [
      "-5\n"
     ]
    }
   ],
   "source": [
    "print(substration(2,3,4))"
   ]
  },
  {
   "cell_type": "code",
   "execution_count": 75,
   "id": "1b1f5acd",
   "metadata": {},
   "outputs": [
    {
     "data": {
      "text/plain": [
       "-5"
      ]
     },
     "execution_count": 75,
     "metadata": {},
     "output_type": "execute_result"
    }
   ],
   "source": [
    "substration(2,3,4)"
   ]
  },
  {
   "cell_type": "code",
   "execution_count": 83,
   "id": "87bd5b0c",
   "metadata": {},
   "outputs": [],
   "source": [
    "def addition(a,b,c):\n",
    "    return a+b+c\n",
    "\n",
    "def substration(a,b,c):\n",
    "    return a-b-c"
   ]
  },
  {
   "cell_type": "code",
   "execution_count": 82,
   "id": "72346c42",
   "metadata": {},
   "outputs": [
    {
     "name": "stdout",
     "output_type": "stream",
     "text": [
      "-108\n"
     ]
    }
   ],
   "source": [
    "print(addition(3,4,5)*substration(6,7,8))"
   ]
  },
  {
   "cell_type": "code",
   "execution_count": 86,
   "id": "764a8920",
   "metadata": {},
   "outputs": [],
   "source": [
    "#by default function return None\n",
    "def demo():\n",
    "    pass"
   ]
  },
  {
   "cell_type": "code",
   "execution_count": 87,
   "id": "5f1edfa8",
   "metadata": {},
   "outputs": [
    {
     "name": "stdout",
     "output_type": "stream",
     "text": [
      "None\n"
     ]
    }
   ],
   "source": [
    "print(demo())"
   ]
  },
  {
   "cell_type": "code",
   "execution_count": 89,
   "id": "eb4ebbdd",
   "metadata": {},
   "outputs": [],
   "source": [
    "# Function to cal sum of three digit number\n",
    "\n",
    "\n",
    "def sumDigit(n):\n",
    "    sum=0\n",
    "    while n!=0:\n",
    "        digit = n%10\n",
    "        sum=sum+digit\n",
    "        n=n//10\n",
    "    return sum"
   ]
  },
  {
   "cell_type": "code",
   "execution_count": null,
   "id": "82988f84",
   "metadata": {},
   "outputs": [],
   "source": []
  },
  {
   "cell_type": "code",
   "execution_count": 94,
   "id": "524bc955",
   "metadata": {},
   "outputs": [
    {
     "name": "stdout",
     "output_type": "stream",
     "text": [
      "Enter Three Digit Number111\n"
     ]
    },
    {
     "data": {
      "text/plain": [
       "3"
      ]
     },
     "execution_count": 94,
     "metadata": {},
     "output_type": "execute_result"
    }
   ],
   "source": [
    "sumDigit(int(input(\"Enter Three Digit Number\")))"
   ]
  },
  {
   "cell_type": "code",
   "execution_count": 6,
   "id": "5e65d0b4",
   "metadata": {},
   "outputs": [
    {
     "name": "stdout",
     "output_type": "stream",
     "text": [
      "Hi This is hi and Amit\n"
     ]
    }
   ],
   "source": [
    "#Types of Parameters\n",
    "#1. Positional arg\n",
    "\n",
    "def demo(name,msg):\n",
    "    print('Hi This is {} and {}'.format(name,msg))\n",
    "    \n",
    "demo(\"Amit\",'Hi')"
   ]
  },
  {
   "cell_type": "code",
   "execution_count": 13,
   "id": "0972c4bc",
   "metadata": {},
   "outputs": [
    {
     "name": "stdout",
     "output_type": "stream",
     "text": [
      "Amit Good Evening\n",
      "Amit Good Evening\n",
      "Amit Good Evening\n"
     ]
    }
   ],
   "source": [
    "#Keyword based arg\n",
    "\n",
    "def greet(name,msg):\n",
    "    print(name,msg)\n",
    "\n",
    "greet(name=\"Amit\",msg=\"Good Evening\")\n",
    "greet(msg=\"Good Evening\",name=\"Amit\")\n",
    "greet(\"Amit\",msg=\"Good Evening\")\n",
    "#greet('Good evening',name = 'Amit')   This is invalid as we are passing multiple values to name variable"
   ]
  },
  {
   "cell_type": "code",
   "execution_count": 18,
   "id": "a869d51a",
   "metadata": {},
   "outputs": [
    {
     "data": {
      "text/plain": [
       "6"
      ]
     },
     "execution_count": 18,
     "metadata": {},
     "output_type": "execute_result"
    }
   ],
   "source": [
    "#Default arguments\n",
    "def addition(a,b=0,c=0):\n",
    "    return a+b+c\n",
    "\n",
    "addition(1,2,3)"
   ]
  },
  {
   "cell_type": "code",
   "execution_count": 26,
   "id": "3c84464e",
   "metadata": {},
   "outputs": [
    {
     "name": "stdout",
     "output_type": "stream",
     "text": [
      "6\n"
     ]
    }
   ],
   "source": [
    "def addition(a = None,b = None, c=None):  #here a,b,and c have default value i.e None\n",
    "    if a!=None and b!=None and c!=None:\n",
    "        print(a+b+c)\n",
    "    elif a!=None and c!=None:\n",
    "        print(a+c)\n",
    "    elif b!=None and c!=None:\n",
    "        print(b+c)\n",
    "    elif a!=None and b!=None:\n",
    "        print(a+b)\n",
    "    else:\n",
    "        print('Provide 2 or 3 Arg')\n",
    "        \n",
    "addition(1,2,3)"
   ]
  },
  {
   "cell_type": "code",
   "execution_count": 29,
   "id": "fec9f1b9",
   "metadata": {},
   "outputs": [
    {
     "name": "stdout",
     "output_type": "stream",
     "text": [
      "Amir good eveing\n",
      "Good evening good eveing\n",
      "Amit GE\n"
     ]
    }
   ],
   "source": [
    "def greet(name,msg=\"good eveing\"):  #We should not give default arg befor normal argument.\n",
    "    print(name,msg)\n",
    "\n",
    "\n",
    "\n",
    "greet('Amir')\n",
    "\n",
    "greet(\"Good evening\")\n",
    "\n",
    "greet(\"Amit\",\"GE\")"
   ]
  },
  {
   "cell_type": "code",
   "execution_count": 31,
   "id": "ba24e446",
   "metadata": {},
   "outputs": [],
   "source": [
    "#variable lenght arguments\n",
    "def printnumbers(*n):\n",
    "    print(type(n))\n",
    "    print(n)\n"
   ]
  },
  {
   "cell_type": "code",
   "execution_count": 32,
   "id": "d33e6ad5",
   "metadata": {},
   "outputs": [
    {
     "name": "stdout",
     "output_type": "stream",
     "text": [
      "<class 'tuple'>\n",
      "()\n"
     ]
    }
   ],
   "source": [
    "printnumbers()\n"
   ]
  },
  {
   "cell_type": "code",
   "execution_count": 33,
   "id": "b3bee290",
   "metadata": {},
   "outputs": [
    {
     "name": "stdout",
     "output_type": "stream",
     "text": [
      "<class 'tuple'>\n",
      "(1,)\n"
     ]
    }
   ],
   "source": [
    "printnumbers(1)"
   ]
  },
  {
   "cell_type": "code",
   "execution_count": 34,
   "id": "ef3bbaa5",
   "metadata": {},
   "outputs": [
    {
     "name": "stdout",
     "output_type": "stream",
     "text": [
      "<class 'tuple'>\n",
      "(1, 2, 3)\n"
     ]
    }
   ],
   "source": [
    "printnumbers(1,2,3)"
   ]
  },
  {
   "cell_type": "code",
   "execution_count": 36,
   "id": "4c4e5ee3",
   "metadata": {},
   "outputs": [
    {
     "name": "stdout",
     "output_type": "stream",
     "text": [
      "6\n"
     ]
    }
   ],
   "source": [
    "#Accept N Number of natural numbers and print the sum of it\n",
    "def printNumbers(*n):\n",
    "    sum=0\n",
    "    for i in n:\n",
    "        sum+=i\n",
    "    print(sum)\n",
    "    \n",
    "printNumbers(1,2,3)"
   ]
  },
  {
   "cell_type": "code",
   "execution_count": 40,
   "id": "c40816b1",
   "metadata": {
    "scrolled": true
   },
   "outputs": [
    {
     "name": "stdout",
     "output_type": "stream",
     "text": [
      "this is first pos arg 2\n",
      "This is second pos arg 12\n",
      "Rest all are variable lenght arg (13, 14)\n",
      "13\n",
      "14\n"
     ]
    }
   ],
   "source": [
    "def f1(n1,n2,*s):\n",
    "    print(\"this is first pos arg\",n1)\n",
    "    print('This is second pos arg',n2)\n",
    "    print(\"Rest all are variable lenght arg\",s)\n",
    "    for s1 in s:\n",
    "        print(s1)\n",
    "f1(2,12,13,14)"
   ]
  },
  {
   "cell_type": "code",
   "execution_count": 51,
   "id": "e0d3b691",
   "metadata": {},
   "outputs": [
    {
     "ename": "TypeError",
     "evalue": "fun() got an unexpected keyword argument 'e'",
     "output_type": "error",
     "traceback": [
      "\u001b[1;31m---------------------------------------------------------------------------\u001b[0m",
      "\u001b[1;31mTypeError\u001b[0m                                 Traceback (most recent call last)",
      "\u001b[1;32m~\\AppData\\Local\\Temp/ipykernel_244/1623711484.py\u001b[0m in \u001b[0;36m<module>\u001b[1;34m\u001b[0m\n\u001b[0;32m     10\u001b[0m \u001b[1;31m#fun(3,4,a=2,b=3)\u001b[0m\u001b[1;33m\u001b[0m\u001b[1;33m\u001b[0m\u001b[0m\n\u001b[0;32m     11\u001b[0m \u001b[1;31m#fun(4,5,a=3)\u001b[0m\u001b[1;33m\u001b[0m\u001b[1;33m\u001b[0m\u001b[0m\n\u001b[1;32m---> 12\u001b[1;33m \u001b[0mfun\u001b[0m\u001b[1;33m(\u001b[0m\u001b[1;36m4\u001b[0m\u001b[1;33m,\u001b[0m\u001b[1;36m5\u001b[0m\u001b[1;33m,\u001b[0m\u001b[0mc\u001b[0m\u001b[1;33m=\u001b[0m\u001b[1;36m10\u001b[0m\u001b[1;33m,\u001b[0m\u001b[0me\u001b[0m\u001b[1;33m=\u001b[0m\u001b[1;36m20\u001b[0m\u001b[1;33m)\u001b[0m\u001b[1;33m\u001b[0m\u001b[1;33m\u001b[0m\u001b[0m\n\u001b[0m",
      "\u001b[1;31mTypeError\u001b[0m: fun() got an unexpected keyword argument 'e'"
     ]
    }
   ],
   "source": [
    "def fun(a,b,c=4,d=8):\n",
    "    print(a,b,c,d)\n",
    "\n",
    "#fun(3,2)\n",
    "#fun(11,22,33,44)\n",
    "#fun(25,50,d=100)\n",
    "#fun(d=11,a=22,b=3)\n",
    "#fun()   #Error\n",
    "#fun(a=2,b=3,2,3)   \n",
    "#fun(3,4,a=2,b=3)   \n",
    "#fun(4,5,a=3)  \n",
    "fun(4,5,c=10,e=20)  "
   ]
  },
  {
   "cell_type": "code",
   "execution_count": 5,
   "id": "8ab7ef65",
   "metadata": {},
   "outputs": [
    {
     "name": "stdout",
     "output_type": "stream",
     "text": [
      "[0, 1, 4, 9, 16, 25, 36, 49, 64, 81]\n"
     ]
    }
   ],
   "source": [
    "#new_list = [expression for member in iterable]\n",
    "squares = [i * i for i in range(10)]\n",
    "print(squares)"
   ]
  },
  {
   "cell_type": "code",
   "execution_count": 6,
   "id": "ec8ae3b3",
   "metadata": {},
   "outputs": [
    {
     "name": "stdout",
     "output_type": "stream",
     "text": [
      "[1, 9, 25]\n"
     ]
    }
   ],
   "source": [
    "#new_list = [expression for member in iterable (if conditional)]\n",
    "a = [i*i for i in [1,2,3,4,5] if i%2!=0]\n",
    "print(a)"
   ]
  },
  {
   "cell_type": "code",
   "execution_count": 9,
   "id": "456dead5",
   "metadata": {},
   "outputs": [
    {
     "name": "stdout",
     "output_type": "stream",
     "text": [
      "[0, 10, 20, 30, 40, 50, 60, 70, 80, 90]\n"
     ]
    }
   ],
   "source": [
    "num_list = [y for y in range(100) if y % 2 == 0 if y % 5 == 0]\n",
    "print(num_list)"
   ]
  },
  {
   "cell_type": "code",
   "execution_count": 11,
   "id": "eff579a2",
   "metadata": {},
   "outputs": [
    {
     "name": "stdout",
     "output_type": "stream",
     "text": [
      "['i', 'i', 'o', 'a', 'i', 'i']\n"
     ]
    }
   ],
   "source": [
    "sentence = 'This is Python training'\n",
    "vowels = [i for i in sentence if i in 'aeiou']\n",
    "print(vowels)"
   ]
  },
  {
   "cell_type": "code",
   "execution_count": 15,
   "id": "b698566f",
   "metadata": {},
   "outputs": [
    {
     "name": "stdout",
     "output_type": "stream",
     "text": [
      "['Old', 'Even', 'Old', 'Even', 'Old']\n"
     ]
    }
   ],
   "source": [
    "obj = [\"Even\" if i%2==0 else 'Old' for i in [1,2,3,4,5]]\n",
    "print(obj)"
   ]
  },
  {
   "cell_type": "code",
   "execution_count": 16,
   "id": "613cb299",
   "metadata": {},
   "outputs": [
    {
     "name": "stdout",
     "output_type": "stream",
     "text": [
      "[1, 8, 27, 64]\n"
     ]
    }
   ],
   "source": [
    "#original_prices = [1.25, -9.45, 10.22, 3.78, -5.92, 1.16]   HW\n",
    "\n",
    "#We can call function in place of expression\n",
    "def Cube(x):\n",
    "    return x**3\n",
    "\n",
    "\n",
    "l=[1,2,3,4]\n",
    "\n",
    "a=[Cube(i) for i in l]\n",
    "print(a)"
   ]
  },
  {
   "cell_type": "code",
   "execution_count": 17,
   "id": "9126ecaf",
   "metadata": {},
   "outputs": [
    {
     "data": {
      "text/plain": [
       "25"
      ]
     },
     "execution_count": 17,
     "metadata": {},
     "output_type": "execute_result"
    }
   ],
   "source": [
    "#anonymous function\n",
    "#Function without name is called anaonymous function\n",
    "#we use lambda keyword to define this function.\n",
    "#Syntax\n",
    "#variable = lambda variablelist: expression\n",
    "\n",
    "a = lambda n:n*n\n",
    "a(5)"
   ]
  },
  {
   "cell_type": "code",
   "execution_count": 23,
   "id": "944c94f6",
   "metadata": {},
   "outputs": [
    {
     "name": "stdout",
     "output_type": "stream",
     "text": [
      "16\n"
     ]
    }
   ],
   "source": [
    "b = lambda a,b,c=8:a*b*c\n",
    "print(b(1,2))"
   ]
  },
  {
   "cell_type": "code",
   "execution_count": 20,
   "id": "f4437893",
   "metadata": {},
   "outputs": [
    {
     "name": "stdout",
     "output_type": "stream",
     "text": [
      "120\n"
     ]
    }
   ],
   "source": [
    "def mul(a,b,c):\n",
    "    print(a*b*c)\n",
    "mul(4,5,6)"
   ]
  },
  {
   "cell_type": "code",
   "execution_count": 24,
   "id": "ad45b7d4",
   "metadata": {},
   "outputs": [
    {
     "name": "stdout",
     "output_type": "stream",
     "text": [
      "4\n"
     ]
    }
   ],
   "source": [
    "#find largest number from three numbers using lambda function\n",
    "a=lambda a,b,c: a if a>b and a>c else b if b>c else c\n",
    "print(a(2,3,4))"
   ]
  },
  {
   "cell_type": "code",
   "execution_count": 25,
   "id": "9437506c",
   "metadata": {},
   "outputs": [
    {
     "name": "stdout",
     "output_type": "stream",
     "text": [
      "555\n"
     ]
    }
   ],
   "source": [
    "valuesList = [222,333,444,555,2,1]\n",
    "\n",
    "print(max(valuesList, key=lambda value: int(value)) )"
   ]
  },
  {
   "cell_type": "code",
   "execution_count": 27,
   "id": "eeabda6e",
   "metadata": {},
   "outputs": [
    {
     "data": {
      "text/plain": [
       "11"
      ]
     },
     "execution_count": 27,
     "metadata": {},
     "output_type": "execute_result"
    }
   ],
   "source": [
    "largest_number = lambda a,b,c: max(a,b,c)\n",
    "largest_number(11,2,3)"
   ]
  },
  {
   "cell_type": "code",
   "execution_count": 32,
   "id": "f48d311a",
   "metadata": {},
   "outputs": [
    {
     "name": "stdout",
     "output_type": "stream",
     "text": [
      "[1, 3]\n"
     ]
    }
   ],
   "source": [
    "#filter()\n",
    "#It is used to filter the data.\n",
    "# we can use it with lambda\n",
    "\n",
    "#Syntax\n",
    "#filter(function,sequence)\n",
    "#Filterout the odd numbers\n",
    "def isOdd(x):\n",
    "    if x%2!=0:\n",
    "        return True\n",
    "    else:\n",
    "        return False\n",
    "\n",
    "result = list(filter(isOdd,[1,2,3,4]))\n",
    "print(result)"
   ]
  },
  {
   "cell_type": "code",
   "execution_count": 33,
   "id": "5506bdcc",
   "metadata": {},
   "outputs": [
    {
     "name": "stdout",
     "output_type": "stream",
     "text": [
      "[2, 4]\n"
     ]
    }
   ],
   "source": [
    "#filterout even numbers.\n",
    "l2=list(filter(lambda x:x%2==0,[1,2,3,4]))\n",
    "print(l2)"
   ]
  },
  {
   "cell_type": "code",
   "execution_count": null,
   "id": "15654516",
   "metadata": {},
   "outputs": [],
   "source": [
    "#Filter positive and negative numbers using filter function\n"
   ]
  },
  {
   "cell_type": "code",
   "execution_count": null,
   "id": "8275c2c5",
   "metadata": {},
   "outputs": [],
   "source": []
  },
  {
   "cell_type": "code",
   "execution_count": 34,
   "id": "509cc177",
   "metadata": {},
   "outputs": [
    {
     "name": "stdout",
     "output_type": "stream",
     "text": [
      "[2, 4, 6, 8]\n"
     ]
    }
   ],
   "source": [
    "#map(function,seq)\n",
    "\n",
    "#For every element we perform some operation and we generate new elements.\n",
    "\n",
    "\n",
    "def doublenum(x):\n",
    "    return x*2\n",
    "\n",
    "result=list(map(doublenum,[1,2,3,4]))\n",
    "print(result)"
   ]
  },
  {
   "cell_type": "code",
   "execution_count": 38,
   "id": "7170e5b5",
   "metadata": {},
   "outputs": [
    {
     "name": "stdout",
     "output_type": "stream",
     "text": [
      "[False, True, False, True]\n"
     ]
    }
   ],
   "source": [
    "def isEven(x):\n",
    "    if x%2==0:\n",
    "        return True\n",
    "    else:\n",
    "        return False\n",
    "    \n",
    "\n",
    "result=list(map(isEven,[1,2,3,4]))\n",
    "print(result)"
   ]
  },
  {
   "cell_type": "code",
   "execution_count": 1,
   "id": "09d595d5",
   "metadata": {},
   "outputs": [
    {
     "name": "stdout",
     "output_type": "stream",
     "text": [
      "34\n"
     ]
    }
   ],
   "source": [
    "#reduce()\n",
    "#Reduce function reduces the sequence of elements into single element.\n",
    "#Syntax:\n",
    "#reduce(function,sequence)\n",
    "#This reduce function is present in functools module.\n",
    "from functools import reduce\n",
    "\n",
    "result=reduce(lambda x,y:x+y,[1,2,3,4,6,10,1,3,4])\n",
    "print(result)\n",
    "\n",
    "#x=1,3,6,10,16,26,27,30,34\n",
    "#y=2,3,4,6,10,1,3,4\n"
   ]
  },
  {
   "cell_type": "code",
   "execution_count": null,
   "id": "8369d28b",
   "metadata": {},
   "outputs": [],
   "source": [
    "#20/08/2022\n",
    "#OOP\n",
    "\n",
    "class ClassName:\n",
    "    classVariables(optioanls)\n",
    "    constructor (optional)\n",
    "    methods     (optional)\n"
   ]
  },
  {
   "cell_type": "code",
   "execution_count": 3,
   "id": "27173f9b",
   "metadata": {},
   "outputs": [],
   "source": [
    "class Demo:\n",
    "    \"\"\"This is demo class\"\"\"\n",
    "    pass\n"
   ]
  },
  {
   "cell_type": "code",
   "execution_count": 4,
   "id": "3dbe238c",
   "metadata": {},
   "outputs": [
    {
     "name": "stdout",
     "output_type": "stream",
     "text": [
      "This is demo class\n"
     ]
    }
   ],
   "source": [
    "print(Demo.__doc__)"
   ]
  },
  {
   "cell_type": "code",
   "execution_count": 5,
   "id": "457ee1b3",
   "metadata": {},
   "outputs": [],
   "source": [
    "#write class\n",
    "class Student:\n",
    "    \n",
    "    def accept(self):\n",
    "        self.name=input(\"Enter name:\")\n",
    "        self.age=input(\"Enter age:\")\n",
    "        self.address = input(\"Enter address:\")\n",
    "        self.sal=input('Enter sal:')\n",
    "        \n",
    "    def display(self):\n",
    "        print(self.name,self.age,self.address,self.sal)\n"
   ]
  },
  {
   "cell_type": "code",
   "execution_count": 7,
   "id": "bcc2aee2",
   "metadata": {},
   "outputs": [
    {
     "name": "stdout",
     "output_type": "stream",
     "text": [
      "Enter name:Amit G\n",
      "Enter age:30\n",
      "Enter address:India\n",
      "Enter sal:10000\n"
     ]
    }
   ],
   "source": [
    "#create object\n",
    "#variable/object name=classname\n",
    "Amit = Student()  #Create the object\n",
    "Amit.accept()  #access instance method"
   ]
  },
  {
   "cell_type": "code",
   "execution_count": 8,
   "id": "b11dd935",
   "metadata": {},
   "outputs": [
    {
     "name": "stdout",
     "output_type": "stream",
     "text": [
      "Amit G 30 India 10000\n"
     ]
    }
   ],
   "source": [
    "Amit.display()"
   ]
  },
  {
   "cell_type": "code",
   "execution_count": 10,
   "id": "3c1f9033",
   "metadata": {},
   "outputs": [
    {
     "name": "stdout",
     "output_type": "stream",
     "text": [
      "Amit G\n"
     ]
    }
   ],
   "source": [
    "print(Amit.name)  #access instance variable"
   ]
  },
  {
   "cell_type": "code",
   "execution_count": 11,
   "id": "3b7dabfc",
   "metadata": {},
   "outputs": [
    {
     "name": "stdout",
     "output_type": "stream",
     "text": [
      "India\n"
     ]
    }
   ],
   "source": [
    "print(Amit.address)"
   ]
  },
  {
   "cell_type": "code",
   "execution_count": 14,
   "id": "0dc6236c",
   "metadata": {},
   "outputs": [
    {
     "name": "stdout",
     "output_type": "stream",
     "text": [
      "Enter name:Pawa\n",
      "Enter age:20\n",
      "Enter address:US\n",
      "Enter sal:10000\n",
      "Pawa 20 US 10000\n"
     ]
    }
   ],
   "source": [
    "pawan = Student() \n",
    "pawan.accept()\n",
    "pawan.display()"
   ]
  },
  {
   "cell_type": "code",
   "execution_count": 15,
   "id": "c280cb94",
   "metadata": {},
   "outputs": [
    {
     "name": "stdout",
     "output_type": "stream",
     "text": [
      "Amit G 30 India 10000\n"
     ]
    }
   ],
   "source": [
    "Amit.display()"
   ]
  },
  {
   "cell_type": "code",
   "execution_count": null,
   "id": "b32147fe",
   "metadata": {},
   "outputs": [],
   "source": [
    "# Constructor \n",
    "#1. Its a speacial type of method\n",
    "#2. It is used to initialize the instance variable \n",
    "#3. Only one constructor is there in python\n",
    "#4. name of the constructor is __init__()\n",
    "#5 syantax:\n",
    "def __init__(self):\n",
    "    #initializing the instance variable\n",
    "# 6. it is called when we create the object. \n"
   ]
  },
  {
   "cell_type": "code",
   "execution_count": 17,
   "id": "5913fbd1",
   "metadata": {},
   "outputs": [],
   "source": [
    "class Person:\n",
    "    def __init__(self):  #constructor \n",
    "        print('This is constructor')\n"
   ]
  },
  {
   "cell_type": "code",
   "execution_count": 19,
   "id": "49e43497",
   "metadata": {},
   "outputs": [
    {
     "name": "stdout",
     "output_type": "stream",
     "text": [
      "This is constructor\n"
     ]
    }
   ],
   "source": [
    "p = Person()  #It automatically call constructor"
   ]
  },
  {
   "cell_type": "code",
   "execution_count": 26,
   "id": "c2919af7",
   "metadata": {},
   "outputs": [],
   "source": [
    "class Person:\n",
    "    def __init__(self):  #constructor \n",
    "        self.name=input('Enter name:')\n",
    "        self.sal = input('Enter sal:')\n",
    "        self.age=input('Enter age:')\n",
    "    def display(self):\n",
    "        print(self.name,self.sal,self.age,self.dept,self.address)\n",
    "    def accept(self):\n",
    "        self.dept=input('Enter Dept name:')\n",
    "        self.address=input('Enter address:')"
   ]
  },
  {
   "cell_type": "code",
   "execution_count": 27,
   "id": "460038bc",
   "metadata": {},
   "outputs": [
    {
     "name": "stdout",
     "output_type": "stream",
     "text": [
      "Enter name:Amit\n",
      "Enter sal:1000\n",
      "Enter age:20\n",
      "Enter Dept name:cs\n",
      "Enter address:us\n",
      "Amit 1000 20 cs us\n"
     ]
    }
   ],
   "source": [
    "p = Person() \n",
    "p.accept()\n",
    "p.display()"
   ]
  },
  {
   "cell_type": "code",
   "execution_count": 28,
   "id": "6da2a9ec",
   "metadata": {},
   "outputs": [],
   "source": [
    "class Employee:\n",
    "    def __init__(self,name1,sal1,age1):  #constructor \n",
    "        self.name=name1\n",
    "        self.sal = sal1\n",
    "        self.age=age1\n",
    "    def display(self):\n",
    "        print(self.name,self.sal,self.age,self.dept,self.address)\n",
    "    def accept(self):\n",
    "        self.dept=input('Enter Dept name:')\n",
    "        self.address=input('Enter address:')"
   ]
  },
  {
   "cell_type": "code",
   "execution_count": 41,
   "id": "3a9f98e3",
   "metadata": {},
   "outputs": [
    {
     "name": "stdout",
     "output_type": "stream",
     "text": [
      "Enter Dept name:aaa\n",
      "Enter address:aaaaa\n",
      "Ami 10000 30 aaa aaaaa\n"
     ]
    }
   ],
   "source": [
    "e = Employee('Ami',10000,30)\n",
    "e.accept()\n",
    "e.display()"
   ]
  },
  {
   "cell_type": "code",
   "execution_count": 39,
   "id": "8745564a",
   "metadata": {},
   "outputs": [],
   "source": [
    "#Bank case study\n",
    "\n",
    "class Bank:\n",
    "    name = \"ABC Bank\"   #class variable/ static variable\n",
    "    \n",
    "    def __init__(self):\n",
    "        self.accno=input('Enter account number:')\n",
    "        self.name = input('Enter Name:')\n",
    "        self.bal = 1000\n",
    "    def accept(self):\n",
    "        self.age=input('Enter age:')\n",
    "        self.address = input('Enter address:')\n",
    "    def deposite(self):\n",
    "        print('Bal before deposite:',self.bal)\n",
    "        self.dept_ammt = int(input('Enter ammount to be deposited:'))\n",
    "        self.bal = self.bal+self.dept_ammt\n",
    "        print('Bal after deposite:',self.bal)\n",
    "        \n",
    "    def withdraw(self):\n",
    "        print('Bal Before withdraw:',self.bal)\n",
    "        self.with_ammt = int(input('Enter ammount to be withdraw:'))\n",
    "        if self.with_ammt>self.bal:\n",
    "            print('Withdraw is not possible:')\n",
    "        else:\n",
    "            self.bal=self.bal-self.with_amm\n",
    "        print('Bal after withdraw:',self.bal)\n",
    "        \n",
    "    def display(self):\n",
    "        print(Bank.name,self.accno,self.name,self.bal,self.age,self.address)"
   ]
  },
  {
   "cell_type": "code",
   "execution_count": 40,
   "id": "7b07aa32",
   "metadata": {},
   "outputs": [
    {
     "name": "stdout",
     "output_type": "stream",
     "text": [
      "Enter account number:1001\n",
      "Enter Name:amit\n",
      "Enter age:20\n",
      "Enter address:India\n",
      "Bal before deposite: 1000\n",
      "Enter ammount to be deposited:5000\n",
      "Bal after deposite: 6000\n",
      "Bal Before withdraw: 6000\n",
      "Enter ammount to be withdraw:20000\n",
      "Withdraw is not possible:\n",
      "Bal after withdraw: 6000\n",
      "ABC Bank 1001 amit 6000 20 India\n"
     ]
    }
   ],
   "source": [
    "b = Bank()\n",
    "b.accept()\n",
    "b.deposite()\n",
    "b.withdraw()\n",
    "b.display()"
   ]
  },
  {
   "cell_type": "code",
   "execution_count": 4,
   "id": "cb48b510",
   "metadata": {},
   "outputs": [
    {
     "name": "stdout",
     "output_type": "stream",
     "text": [
      "Enter the value of e:1000000\n",
      "100 10 1 2 3 1000000 100000\n",
      "10 1\n",
      "100 100000\n"
     ]
    }
   ],
   "source": [
    "#Types of variables in oop\n",
    "#1. instance variable\n",
    "#2. class/static variable\n",
    "#3. local variable\n",
    "\n",
    "class VariableDemo:\n",
    "    a = 100  #class variable\n",
    "    def __init__(self,b,c,d):    #here b,c,d are local variables\n",
    "        self.a = 10 #Instance variable\n",
    "        self.b=b\n",
    "        self.c = c\n",
    "        self.d = d\n",
    "    def accept(self):\n",
    "        VariableDemo.z=100000\n",
    "        self.e = input('Enter the value of e:')\n",
    "    def display(self):\n",
    "        print(VariableDemo.a,self.a,self.b,self.c,self.d,self.e,VariableDemo.z)\n",
    "v = VariableDemo(1,2,3)\n",
    "v. accept()\n",
    "v.display()\n",
    "print(v.a,v.b)\n",
    "print(VariableDemo.a,VariableDemo.z)"
   ]
  },
  {
   "cell_type": "code",
   "execution_count": null,
   "id": "4e4c4202",
   "metadata": {},
   "outputs": [],
   "source": [
    "###Characteristics of OOP###\n",
    "#1. Inheritance\n",
    "#2. Polymorphism \n",
    "#3. Encaapsulation\n",
    "#4. Interface\n",
    "#5. Abstraction \n",
    "\n"
   ]
  },
  {
   "cell_type": "code",
   "execution_count": 8,
   "id": "c022d15e",
   "metadata": {},
   "outputs": [
    {
     "name": "stdout",
     "output_type": "stream",
     "text": [
      "Enter number:1\n",
      "Enter second number:2\n",
      "1000\n",
      "1 2\n"
     ]
    }
   ],
   "source": [
    "#1. Inheritance \n",
    "#simple inheritance\n",
    "#Multilevel inheritance\n",
    "#Multiple inheritance. \n",
    "\n",
    "#Simple Inheritance \n",
    "#Only one parent for child then it is called simple inheritance \n",
    "class Demo:\n",
    "    def __init__(self):\n",
    "        self.a = input('Enter number:')\n",
    "        self.b=input('Enter second number:')\n",
    "    def display(self):\n",
    "        print(self.a,self.b)\n",
    "\n",
    "class Child(Demo):\n",
    "    def __init__(self):\n",
    "        super().__init__()   #Calling the constructor of parent\n",
    "        self.c = 1000\n",
    "        print(self.c)\n",
    "              \n",
    "c = Child()\n",
    "c.display()"
   ]
  },
  {
   "cell_type": "code",
   "execution_count": 11,
   "id": "3ff92c15",
   "metadata": {},
   "outputs": [],
   "source": [
    "class Person:\n",
    "    def accept(self):\n",
    "        self.id = input('Enter ID:')\n",
    "        self.name= input('Enter name:')\n",
    "        self.address = input('Enter address')\n",
    "        self.age=input('Enter age:')\n",
    "\n",
    "class Employee(Person):\n",
    "    def __init__(self):\n",
    "        self.emp_dept = input('Enter Emp Dept:')\n",
    "        self.emp_sal = input('Enter Emp sal:')\n",
    "    def display(self):\n",
    "        print(self.id,self.name,self.address, self.age,self.emp_dept,self.emp_sal)\n",
    "\n",
    "    "
   ]
  },
  {
   "cell_type": "code",
   "execution_count": 14,
   "id": "4cac9521",
   "metadata": {},
   "outputs": [
    {
     "name": "stdout",
     "output_type": "stream",
     "text": [
      "Enter Emp Dept:cs\n",
      "Enter Emp sal:100000\n",
      "Enter ID:1\n",
      "Enter name:amt\n",
      "Enter addressIndia\n",
      "Enter age:20\n",
      "1 amt India 20 cs 100000\n"
     ]
    }
   ],
   "source": [
    "e = Employee()\n",
    "e.accept()\n",
    "e.display()"
   ]
  },
  {
   "cell_type": "code",
   "execution_count": 18,
   "id": "c8f1fba4",
   "metadata": {},
   "outputs": [],
   "source": [
    "##Multilevel Inheritance\n",
    "class Person:\n",
    "    def accept(self):\n",
    "        self.id = input('Enter ID:')\n",
    "        self.name= input('Enter name:')\n",
    "        self.address = input('Enter address')\n",
    "        self.age=input('Enter age:')\n",
    "\n",
    "class Employee(Person):\n",
    "        def __init__(self):\n",
    "            self.emp_dept = input('Enter Emp Dept:')\n",
    "            self.emp_sal = input('Enter Emp sal:')\n",
    "        \n",
    "class Admin(Employee):\n",
    "    def __init__(self):\n",
    "            self.attendance = 10\n",
    "            super().__init__()\n",
    "        \n",
    "    def display(self):\n",
    "            print(self.attendance, self.emp_dept,self.emp_sal,self.id,self.name, self.address,self.age)"
   ]
  },
  {
   "cell_type": "code",
   "execution_count": 20,
   "id": "58ff0ad2",
   "metadata": {},
   "outputs": [
    {
     "name": "stdout",
     "output_type": "stream",
     "text": [
      "Enter Emp Dept:cs\n",
      "Enter Emp sal:100000\n",
      "Enter ID:1\n",
      "Enter name:amit\n",
      "Enter addressIndia\n",
      "Enter age:30\n",
      "10 cs 100000 1 amit India 30\n"
     ]
    }
   ],
   "source": [
    "a = Admin()\n",
    "a.accept()\n",
    "a.display()"
   ]
  },
  {
   "cell_type": "code",
   "execution_count": 24,
   "id": "b803866a",
   "metadata": {},
   "outputs": [],
   "source": [
    "#Multiple Inheritance \n",
    "\n",
    "#Multiple parent for one child \n",
    "class Person:\n",
    "    def __init__(self):\n",
    "        self.id = input('Enter ID:')\n",
    "        self.name= input('Enter name:')\n",
    "        self.address = input('Enter address')\n",
    "        self.age=input('Enter age:')\n",
    "\n",
    "class Employee:\n",
    "    def __init__(self):\n",
    "        self.emp_dept = input('Enter Emp Dept:')\n",
    "        self.emp_sal = input('Enter Emp sal:')\n",
    "        \n",
    "class Admin(Person,Employee):\n",
    "    def __init__(self):\n",
    "        self.attendance = 10\n",
    "        Person.__init__(self)\n",
    "        Employee.__init__(self)\n",
    "    def display(self):\n",
    "            print(self.attendance, self.emp_dept,self.emp_sal,self.id,self.name, self.address,self.age)"
   ]
  },
  {
   "cell_type": "code",
   "execution_count": 25,
   "id": "a5999bcb",
   "metadata": {},
   "outputs": [
    {
     "name": "stdout",
     "output_type": "stream",
     "text": [
      "Enter ID:1\n",
      "Enter name:amit\n",
      "Enter addressaaaa\n",
      "Enter age:30\n",
      "Enter Emp Dept:cs\n",
      "Enter Emp sal:100000\n",
      "10 cs 100000 1 amit aaaa 30\n"
     ]
    }
   ],
   "source": [
    "a = Admin()\n",
    "a.display()"
   ]
  }
 ],
 "metadata": {
  "kernelspec": {
   "display_name": "Python 3 (ipykernel)",
   "language": "python",
   "name": "python3"
  },
  "language_info": {
   "codemirror_mode": {
    "name": "ipython",
    "version": 3
   },
   "file_extension": ".py",
   "mimetype": "text/x-python",
   "name": "python",
   "nbconvert_exporter": "python",
   "pygments_lexer": "ipython3",
   "version": "3.9.7"
  }
 },
 "nbformat": 4,
 "nbformat_minor": 5
}
