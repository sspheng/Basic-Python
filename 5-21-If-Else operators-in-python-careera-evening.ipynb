{
 "cells": [
  {
   "cell_type": "code",
   "execution_count": 2,
   "id": "cdebfe0c",
   "metadata": {},
   "outputs": [],
   "source": [
    "## Operators in Python - Operations on variables\n",
    "##1. Assignment Operator -> =\n",
    "##2. Arithmetic Operators -> +, -, *, /, **, %(Modulus), //(Floor Division)\n",
    "##3. Comparison Operators -> Boolean(True/Flase), >, <, >=, <= !=, ==\n",
    "##4. Logical Operators -> and, or, not\n",
    "##5. Indentity Operators -> is , isnot\n",
    "##6. Membrship Operators -> in, not in \n",
    "##7. Bitwise Operators - Binary Numbers(We do not use it)\n"
   ]
  },
  {
   "cell_type": "code",
   "execution_count": 3,
   "id": "c1efc330",
   "metadata": {},
   "outputs": [],
   "source": [
    "x = 10"
   ]
  },
  {
   "cell_type": "code",
   "execution_count": 4,
   "id": "85143fca",
   "metadata": {},
   "outputs": [
    {
     "data": {
      "text/plain": [
       "10"
      ]
     },
     "execution_count": 4,
     "metadata": {},
     "output_type": "execute_result"
    }
   ],
   "source": [
    "x"
   ]
  },
  {
   "cell_type": "code",
   "execution_count": 5,
   "id": "f32611d2",
   "metadata": {},
   "outputs": [
    {
     "data": {
      "text/plain": [
       "20"
      ]
     },
     "execution_count": 5,
     "metadata": {},
     "output_type": "execute_result"
    }
   ],
   "source": [
    "x+10"
   ]
  },
  {
   "cell_type": "code",
   "execution_count": 6,
   "id": "6a22242b",
   "metadata": {},
   "outputs": [
    {
     "data": {
      "text/plain": [
       "100"
      ]
     },
     "execution_count": 6,
     "metadata": {},
     "output_type": "execute_result"
    }
   ],
   "source": [
    "x*10"
   ]
  },
  {
   "cell_type": "code",
   "execution_count": 7,
   "id": "71e4191a",
   "metadata": {},
   "outputs": [
    {
     "data": {
      "text/plain": [
       "20"
      ]
     },
     "execution_count": 7,
     "metadata": {},
     "output_type": "execute_result"
    }
   ],
   "source": [
    "10*2"
   ]
  },
  {
   "cell_type": "code",
   "execution_count": 8,
   "id": "2ed84e76",
   "metadata": {},
   "outputs": [
    {
     "data": {
      "text/plain": [
       "100"
      ]
     },
     "execution_count": 8,
     "metadata": {},
     "output_type": "execute_result"
    }
   ],
   "source": [
    "10**2"
   ]
  },
  {
   "cell_type": "code",
   "execution_count": 9,
   "id": "c46f3c23",
   "metadata": {},
   "outputs": [
    {
     "data": {
      "text/plain": [
       "5.0"
      ]
     },
     "execution_count": 9,
     "metadata": {},
     "output_type": "execute_result"
    }
   ],
   "source": [
    "10/2"
   ]
  },
  {
   "cell_type": "code",
   "execution_count": 10,
   "id": "a7ee2478",
   "metadata": {},
   "outputs": [
    {
     "data": {
      "text/plain": [
       "0"
      ]
     },
     "execution_count": 10,
     "metadata": {},
     "output_type": "execute_result"
    }
   ],
   "source": [
    "10%2"
   ]
  },
  {
   "cell_type": "code",
   "execution_count": 11,
   "id": "cb4580ec",
   "metadata": {},
   "outputs": [
    {
     "data": {
      "text/plain": [
       "5.0"
      ]
     },
     "execution_count": 11,
     "metadata": {},
     "output_type": "execute_result"
    }
   ],
   "source": [
    "10/2"
   ]
  },
  {
   "cell_type": "code",
   "execution_count": 12,
   "id": "967dd4c8",
   "metadata": {},
   "outputs": [
    {
     "data": {
      "text/plain": [
       "5"
      ]
     },
     "execution_count": 12,
     "metadata": {},
     "output_type": "execute_result"
    }
   ],
   "source": [
    "10//2"
   ]
  },
  {
   "cell_type": "code",
   "execution_count": 13,
   "id": "e4ca6177",
   "metadata": {},
   "outputs": [
    {
     "data": {
      "text/plain": [
       "5"
      ]
     },
     "execution_count": 13,
     "metadata": {},
     "output_type": "execute_result"
    }
   ],
   "source": [
    "11//2"
   ]
  },
  {
   "cell_type": "code",
   "execution_count": 14,
   "id": "5dbca201",
   "metadata": {},
   "outputs": [
    {
     "data": {
      "text/plain": [
       "5.5"
      ]
     },
     "execution_count": 14,
     "metadata": {},
     "output_type": "execute_result"
    }
   ],
   "source": [
    "11/2"
   ]
  },
  {
   "cell_type": "code",
   "execution_count": 15,
   "id": "b2c25ebe",
   "metadata": {},
   "outputs": [
    {
     "data": {
      "text/plain": [
       "False"
      ]
     },
     "execution_count": 15,
     "metadata": {},
     "output_type": "execute_result"
    }
   ],
   "source": [
    "10>10"
   ]
  },
  {
   "cell_type": "code",
   "execution_count": 16,
   "id": "79b60e8e",
   "metadata": {},
   "outputs": [
    {
     "data": {
      "text/plain": [
       "False"
      ]
     },
     "execution_count": 16,
     "metadata": {},
     "output_type": "execute_result"
    }
   ],
   "source": [
    "10>12"
   ]
  },
  {
   "cell_type": "code",
   "execution_count": 17,
   "id": "c4a5ae6f",
   "metadata": {},
   "outputs": [
    {
     "data": {
      "text/plain": [
       "True"
      ]
     },
     "execution_count": 17,
     "metadata": {},
     "output_type": "execute_result"
    }
   ],
   "source": [
    "12>10"
   ]
  },
  {
   "cell_type": "code",
   "execution_count": 18,
   "id": "a22bbddc",
   "metadata": {},
   "outputs": [
    {
     "data": {
      "text/plain": [
       "False"
      ]
     },
     "execution_count": 18,
     "metadata": {},
     "output_type": "execute_result"
    }
   ],
   "source": [
    "10!=10"
   ]
  },
  {
   "cell_type": "code",
   "execution_count": 20,
   "id": "3ab3c1c9",
   "metadata": {},
   "outputs": [
    {
     "data": {
      "text/plain": [
       "True"
      ]
     },
     "execution_count": 20,
     "metadata": {},
     "output_type": "execute_result"
    }
   ],
   "source": [
    "10==10"
   ]
  },
  {
   "cell_type": "code",
   "execution_count": 22,
   "id": "b6e4a620",
   "metadata": {},
   "outputs": [],
   "source": [
    "x = 20"
   ]
  },
  {
   "cell_type": "code",
   "execution_count": 25,
   "id": "652adfcb",
   "metadata": {},
   "outputs": [
    {
     "name": "stdout",
     "output_type": "stream",
     "text": [
      "Good\n"
     ]
    }
   ],
   "source": [
    "if (x>10) or (x<20):\n",
    "    print(\"Good\")"
   ]
  },
  {
   "cell_type": "code",
   "execution_count": 28,
   "id": "843de128",
   "metadata": {},
   "outputs": [
    {
     "name": "stdout",
     "output_type": "stream",
     "text": [
      "Good\n"
     ]
    }
   ],
   "source": [
    "if not x<20:\n",
    "    print('Good')"
   ]
  },
  {
   "cell_type": "code",
   "execution_count": 29,
   "id": "09426f7d",
   "metadata": {},
   "outputs": [],
   "source": [
    "x = 20"
   ]
  },
  {
   "cell_type": "code",
   "execution_count": 34,
   "id": "a074fb4b",
   "metadata": {},
   "outputs": [],
   "source": [
    "y = 20"
   ]
  },
  {
   "cell_type": "code",
   "execution_count": 35,
   "id": "41723e96",
   "metadata": {},
   "outputs": [
    {
     "name": "stdout",
     "output_type": "stream",
     "text": [
      "Good\n"
     ]
    }
   ],
   "source": [
    "if x is y:\n",
    "    print(\"Good\")"
   ]
  },
  {
   "cell_type": "code",
   "execution_count": 36,
   "id": "06b46698",
   "metadata": {},
   "outputs": [
    {
     "data": {
      "text/plain": [
       "20"
      ]
     },
     "execution_count": 36,
     "metadata": {},
     "output_type": "execute_result"
    }
   ],
   "source": [
    "x"
   ]
  },
  {
   "cell_type": "code",
   "execution_count": 37,
   "id": "60f3e0ea",
   "metadata": {},
   "outputs": [
    {
     "data": {
      "text/plain": [
       "20"
      ]
     },
     "execution_count": 37,
     "metadata": {},
     "output_type": "execute_result"
    }
   ],
   "source": [
    "y"
   ]
  },
  {
   "cell_type": "code",
   "execution_count": 38,
   "id": "5778a44d",
   "metadata": {},
   "outputs": [],
   "source": [
    "x = 20"
   ]
  },
  {
   "cell_type": "code",
   "execution_count": 39,
   "id": "fd0dc020",
   "metadata": {},
   "outputs": [],
   "source": [
    "y = 30"
   ]
  },
  {
   "cell_type": "code",
   "execution_count": 40,
   "id": "bc398d2a",
   "metadata": {},
   "outputs": [],
   "source": [
    "if x is y:\n",
    "    print(\"Good\")"
   ]
  },
  {
   "cell_type": "code",
   "execution_count": 41,
   "id": "4d787458",
   "metadata": {},
   "outputs": [
    {
     "name": "stdout",
     "output_type": "stream",
     "text": [
      "Good\n"
     ]
    }
   ],
   "source": [
    "if x is not y:\n",
    "    print('Good')"
   ]
  },
  {
   "cell_type": "code",
   "execution_count": 43,
   "id": "2e7bbf4e",
   "metadata": {},
   "outputs": [
    {
     "name": "stdout",
     "output_type": "stream",
     "text": [
      "Good\n"
     ]
    }
   ],
   "source": [
    "if 'STRING' == 'STRING':\n",
    "    print(\"Good\")"
   ]
  },
  {
   "cell_type": "code",
   "execution_count": 44,
   "id": "4d849f9d",
   "metadata": {},
   "outputs": [],
   "source": [
    "x = 10"
   ]
  },
  {
   "cell_type": "code",
   "execution_count": 45,
   "id": "0b4ee529",
   "metadata": {},
   "outputs": [
    {
     "name": "stdout",
     "output_type": "stream",
     "text": [
      "Good\n"
     ]
    }
   ],
   "source": [
    "if x ==10:\n",
    "    print(\"Good\")"
   ]
  },
  {
   "cell_type": "code",
   "execution_count": 46,
   "id": "6b31d167",
   "metadata": {},
   "outputs": [],
   "source": [
    "if not x==10:\n",
    "    print('It is a good day today')"
   ]
  },
  {
   "cell_type": "code",
   "execution_count": 47,
   "id": "2d84f803",
   "metadata": {},
   "outputs": [],
   "source": [
    "x = [1,2,3,4]"
   ]
  },
  {
   "cell_type": "code",
   "execution_count": 48,
   "id": "1d64ccf7",
   "metadata": {},
   "outputs": [
    {
     "name": "stdout",
     "output_type": "stream",
     "text": [
      "Good\n"
     ]
    }
   ],
   "source": [
    "if 2 in x:\n",
    "    print(\"Good\")"
   ]
  },
  {
   "cell_type": "code",
   "execution_count": 49,
   "id": "edd3cc99",
   "metadata": {},
   "outputs": [],
   "source": [
    "if 6 in x:\n",
    "    print(\"Good\")"
   ]
  },
  {
   "cell_type": "code",
   "execution_count": 50,
   "id": "2fbe46aa",
   "metadata": {},
   "outputs": [
    {
     "name": "stdout",
     "output_type": "stream",
     "text": [
      "Spam ads to 6\n"
     ]
    }
   ],
   "source": [
    "if 6 not in x:\n",
    "    print(\"Spam ads to 6\")"
   ]
  },
  {
   "cell_type": "code",
   "execution_count": 51,
   "id": "3f3efe6c",
   "metadata": {},
   "outputs": [
    {
     "data": {
      "text/plain": [
       "True"
      ]
     },
     "execution_count": 51,
     "metadata": {},
     "output_type": "execute_result"
    }
   ],
   "source": [
    "20!=10"
   ]
  },
  {
   "cell_type": "code",
   "execution_count": 52,
   "id": "ed67c7a6",
   "metadata": {},
   "outputs": [
    {
     "data": {
      "text/plain": [
       "[1, 2, 3, 4]"
      ]
     },
     "execution_count": 52,
     "metadata": {},
     "output_type": "execute_result"
    }
   ],
   "source": [
    "x"
   ]
  },
  {
   "cell_type": "code",
   "execution_count": 53,
   "id": "bfa9ccdc",
   "metadata": {},
   "outputs": [],
   "source": [
    "x = 10"
   ]
  },
  {
   "cell_type": "code",
   "execution_count": 54,
   "id": "5dc38db1",
   "metadata": {},
   "outputs": [],
   "source": [
    "y = 20"
   ]
  },
  {
   "cell_type": "code",
   "execution_count": 55,
   "id": "87481d5b",
   "metadata": {},
   "outputs": [
    {
     "name": "stdout",
     "output_type": "stream",
     "text": [
      "Good\n"
     ]
    }
   ],
   "source": [
    "if x!=y:\n",
    "    print('Good')"
   ]
  },
  {
   "cell_type": "code",
   "execution_count": 57,
   "id": "e0597370",
   "metadata": {},
   "outputs": [
    {
     "data": {
      "text/plain": [
       "5.0"
      ]
     },
     "execution_count": 57,
     "metadata": {},
     "output_type": "execute_result"
    }
   ],
   "source": [
    "10/2"
   ]
  },
  {
   "cell_type": "code",
   "execution_count": 58,
   "id": "9c09452b",
   "metadata": {},
   "outputs": [
    {
     "data": {
      "text/plain": [
       "5.5"
      ]
     },
     "execution_count": 58,
     "metadata": {},
     "output_type": "execute_result"
    }
   ],
   "source": [
    "11/2"
   ]
  },
  {
   "cell_type": "code",
   "execution_count": 59,
   "id": "4dc6a569",
   "metadata": {},
   "outputs": [
    {
     "data": {
      "text/plain": [
       "5"
      ]
     },
     "execution_count": 59,
     "metadata": {},
     "output_type": "execute_result"
    }
   ],
   "source": [
    "11//2"
   ]
  },
  {
   "cell_type": "code",
   "execution_count": 60,
   "id": "add5b17d",
   "metadata": {},
   "outputs": [
    {
     "data": {
      "text/plain": [
       "1"
      ]
     },
     "execution_count": 60,
     "metadata": {},
     "output_type": "execute_result"
    }
   ],
   "source": [
    "11%2"
   ]
  },
  {
   "cell_type": "code",
   "execution_count": 56,
   "id": "fed08a9a",
   "metadata": {},
   "outputs": [],
   "source": [
    "## If...Else Logic"
   ]
  },
  {
   "cell_type": "code",
   "execution_count": 61,
   "id": "b88d7c5a",
   "metadata": {},
   "outputs": [],
   "source": [
    "x = 10"
   ]
  },
  {
   "cell_type": "code",
   "execution_count": 65,
   "id": "31941565",
   "metadata": {},
   "outputs": [
    {
     "name": "stdout",
     "output_type": "stream",
     "text": [
      "Avg Balance Maintained\n",
      "All is good\n"
     ]
    }
   ],
   "source": [
    "if x==10:\n",
    "    print(\"Avg Balance Maintained\")\n",
    "    print(\"All is good\")\n",
    "else:\n",
    "    print(\"Not maintained\")"
   ]
  },
  {
   "cell_type": "code",
   "execution_count": 64,
   "id": "f7c32039",
   "metadata": {},
   "outputs": [
    {
     "name": "stdout",
     "output_type": "stream",
     "text": [
      "Good\n"
     ]
    }
   ],
   "source": [
    "if x==10:\n",
    "    print('Good')\n",
    "    "
   ]
  },
  {
   "cell_type": "code",
   "execution_count": 66,
   "id": "ac147431",
   "metadata": {},
   "outputs": [
    {
     "name": "stdout",
     "output_type": "stream",
     "text": [
      "Not Good\n"
     ]
    }
   ],
   "source": [
    "if x>10:\n",
    "    print(\"Good\")\n",
    "elif x<10:\n",
    "    print(\"Fine\")\n",
    "else:\n",
    "    print(\"Not Good\")"
   ]
  },
  {
   "cell_type": "code",
   "execution_count": 72,
   "id": "3fef7d8f",
   "metadata": {},
   "outputs": [
    {
     "name": "stdout",
     "output_type": "stream",
     "text": [
      "Please enter the age:70\n"
     ]
    }
   ],
   "source": [
    "age = input(\"Please enter the age:\")"
   ]
  },
  {
   "cell_type": "code",
   "execution_count": 71,
   "id": "02d79e36",
   "metadata": {},
   "outputs": [
    {
     "data": {
      "text/plain": [
       "str"
      ]
     },
     "execution_count": 71,
     "metadata": {},
     "output_type": "execute_result"
    }
   ],
   "source": [
    "type(age)"
   ]
  },
  {
   "cell_type": "code",
   "execution_count": 76,
   "id": "7bf88e3f",
   "metadata": {},
   "outputs": [
    {
     "data": {
      "text/plain": [
       "79"
      ]
     },
     "execution_count": 76,
     "metadata": {},
     "output_type": "execute_result"
    }
   ],
   "source": [
    "int('79')"
   ]
  },
  {
   "cell_type": "code",
   "execution_count": 79,
   "id": "9ff10c8e",
   "metadata": {},
   "outputs": [
    {
     "name": "stdout",
     "output_type": "stream",
     "text": [
      "Enter the age89\n",
      "Eligible to Vote\n"
     ]
    }
   ],
   "source": [
    "age=int(input(\"Enter the age\"))\n",
    "\n",
    "if age>=18:\n",
    "    print(\"Eligible to Vote\")\n",
    "else:\n",
    "    print(\"Not eligible to Vote\")"
   ]
  },
  {
   "cell_type": "code",
   "execution_count": 82,
   "id": "a3fb346a",
   "metadata": {},
   "outputs": [],
   "source": [
    "import pandas as pd"
   ]
  },
  {
   "cell_type": "code",
   "execution_count": 83,
   "id": "20c2f83e",
   "metadata": {},
   "outputs": [],
   "source": [
    "## Write a program which takes the percentage as an input from the user.\n",
    "## > 90 - \"Grade is A\"\n",
    "## >80 <=90 - \"Grade is B\"\n",
    "##>=60 <=80 - \"Grade is C\"\n",
    "## below 60 - \"Grade is D\""
   ]
  },
  {
   "cell_type": "code",
   "execution_count": 1,
   "id": "778a7032",
   "metadata": {},
   "outputs": [
    {
     "name": "stdout",
     "output_type": "stream",
     "text": [
      "enter the percentage72\n",
      "Grade is C\n"
     ]
    }
   ],
   "source": [
    "Percentage = int(input(\"enter the percentage\"))\n",
    "if Percentage>90:\n",
    "\tprint(\"Grade is A\")\n",
    "elif Percentage>80 and Percentage<=90:\n",
    "\tprint(\"Grade is B\")\n",
    "elif Percentage>=60 and Percentage<=80:\n",
    "\tprint(\"Grade is C\")\n",
    "else:\n",
    "\tprint(\"Grade is D\")"
   ]
  },
  {
   "cell_type": "code",
   "execution_count": 86,
   "id": "426523b6",
   "metadata": {},
   "outputs": [
    {
     "name": "stdout",
     "output_type": "stream",
     "text": [
      "Hi\n"
     ]
    }
   ],
   "source": [
    "print('Hi')"
   ]
  },
  {
   "cell_type": "code",
   "execution_count": 87,
   "id": "8d40e5a2",
   "metadata": {},
   "outputs": [
    {
     "name": "stdout",
     "output_type": "stream",
     "text": [
      "hi\n"
     ]
    }
   ],
   "source": [
    "print(\"hi\")"
   ]
  },
  {
   "cell_type": "code",
   "execution_count": 88,
   "id": "2940792d",
   "metadata": {},
   "outputs": [
    {
     "name": "stdout",
     "output_type": "stream",
     "text": [
      "enter the percentage of your marks72\n",
      "Grade is C\n"
     ]
    }
   ],
   "source": [
    "Grade = int(input(\"enter the percentage of your marks\"))\n",
    "if Grade >90:\n",
    "    print (\"Grade is A\")\n",
    "elif Grade >80 and Grade <=90:\n",
    "    print (\"Grade is B\")\n",
    "elif Grade >=60 and Grade <=80:\n",
    "    print (\"Grade is C\")\n",
    "else:\n",
    "    print (\"Grade is D\")"
   ]
  },
  {
   "cell_type": "code",
   "execution_count": 9,
   "id": "c8232e22",
   "metadata": {},
   "outputs": [
    {
     "name": "stdout",
     "output_type": "stream",
     "text": [
      "Enter the %85\n",
      "Grade is B\n"
     ]
    }
   ],
   "source": [
    "percentage=int(input('Enter the %'))\n",
    "\n",
    "if percentage>90:\n",
    "    print('Grade is A')\n",
    "elif percentage>80 and percentage<=90:\n",
    "     print('Grade is B')\n",
    "elif percentage>=60 and percentage<=80:\n",
    "     print ('Grade is C')\n",
    "else:\n",
    "     print ('Grade is D')"
   ]
  },
  {
   "cell_type": "code",
   "execution_count": 7,
   "id": "1fb53103",
   "metadata": {},
   "outputs": [],
   "source": [
    "## Electricity Bill \n",
    "## Write a programm to accept the units from the user\n",
    "## First 100 units - Free no charge\n",
    "## Next 100 units - Rs 5 per unit\n",
    "## After 200 units - RS 10 per unit\n",
    "\n",
    "## Calcuate the bill amount\n",
    "\n",
    "##350"
   ]
  },
  {
   "cell_type": "code",
   "execution_count": null,
   "id": "40741326",
   "metadata": {},
   "outputs": [],
   "source": []
  }
 ],
 "metadata": {
  "kernelspec": {
   "display_name": "Python 3 (ipykernel)",
   "language": "python",
   "name": "python3"
  },
  "language_info": {
   "codemirror_mode": {
    "name": "ipython",
    "version": 3
   },
   "file_extension": ".py",
   "mimetype": "text/x-python",
   "name": "python",
   "nbconvert_exporter": "python",
   "pygments_lexer": "ipython3",
   "version": "3.9.7"
  }
 },
 "nbformat": 4,
 "nbformat_minor": 5
}
