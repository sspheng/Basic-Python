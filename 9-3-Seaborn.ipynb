{
 "cells": [
  {
   "cell_type": "code",
   "execution_count": 1,
   "id": "6ef55668",
   "metadata": {},
   "outputs": [],
   "source": [
    "#a = 10   #variable\n",
    "my_country = \"India\""
   ]
  },
  {
   "cell_type": "code",
   "execution_count": 2,
   "id": "c9aaed21",
   "metadata": {},
   "outputs": [],
   "source": [
    "a9 = 'amit'"
   ]
  },
  {
   "cell_type": "code",
   "execution_count": 3,
   "id": "1aea6a56",
   "metadata": {},
   "outputs": [
    {
     "name": "stdout",
     "output_type": "stream",
     "text": [
      "36\n",
      "['False', 'None', 'True', '__peg_parser__', 'and', 'as', 'assert', 'async', 'await', 'break', 'class', 'continue', 'def', 'del', 'elif', 'else', 'except', 'finally', 'for', 'from', 'global', 'if', 'import', 'in', 'is', 'lambda', 'nonlocal', 'not', 'or', 'pass', 'raise', 'return', 'try', 'while', 'with', 'yield']\n"
     ]
    }
   ],
   "source": [
    "import keyword\n",
    "print(len(keyword.kwlist))\n",
    "print(keyword.kwlist)"
   ]
  },
  {
   "cell_type": "code",
   "execution_count": 4,
   "id": "feb3b597",
   "metadata": {},
   "outputs": [
    {
     "ename": "SyntaxError",
     "evalue": "invalid syntax (Temp/ipykernel_6836/2918962595.py, line 6)",
     "output_type": "error",
     "traceback": [
      "\u001b[1;36m  File \u001b[1;32m\"C:\\Users\\amit\\AppData\\Local\\Temp/ipykernel_6836/2918962595.py\"\u001b[1;36m, line \u001b[1;32m6\u001b[0m\n\u001b[1;33m    1. for loop\u001b[0m\n\u001b[1;37m       ^\u001b[0m\n\u001b[1;31mSyntaxError\u001b[0m\u001b[1;31m:\u001b[0m invalid syntax\n"
     ]
    }
   ],
   "source": [
    "# Looping \n",
    "print(\"Amit\")\n",
    "print('Amit')\n",
    "\n",
    "\n",
    "1. for loop\n",
    "2. while \n",
    "\n"
   ]
  },
  {
   "cell_type": "code",
   "execution_count": null,
   "id": "259db218",
   "metadata": {},
   "outputs": [],
   "source": [
    "#for loop\n",
    "\n",
    "for variableName in sequence:\n",
    "    stmt1\n",
    "    stmt2\n",
    "    stmt3\n",
    "    stmt4\n",
    "    stmtn\n",
    "print()"
   ]
  },
  {
   "cell_type": "code",
   "execution_count": null,
   "id": "0e8cf3c3",
   "metadata": {},
   "outputs": [],
   "source": [
    "Seq can be   \n",
    "1. string\n",
    "2. tuple\n",
    "3. list\n",
    "4. dict\n",
    "5. range"
   ]
  },
  {
   "cell_type": "code",
   "execution_count": null,
   "id": "bc69c380",
   "metadata": {},
   "outputs": [],
   "source": [
    "a = [11,12,13,14,15]\n",
    "print(a[0])\n",
    "print(a[1])\n",
    "print(a[2])\n",
    "print(a[3])\n",
    "print(a[4])"
   ]
  },
  {
   "cell_type": "code",
   "execution_count": null,
   "id": "84a54a70",
   "metadata": {},
   "outputs": [],
   "source": [
    "a = 'Amit'\n",
    "for i in a:   #[11,12,13,14,15]\n",
    "    print(i,end ='\\t')"
   ]
  },
  {
   "cell_type": "code",
   "execution_count": null,
   "id": "097aff49",
   "metadata": {},
   "outputs": [],
   "source": [
    "#range(start,end-1,steps)\n",
    "#range(1,)\n",
    "for i in range(0,6,3):    #0,1,2,3,4,5\n",
    "    print(i)"
   ]
  },
  {
   "cell_type": "code",
   "execution_count": null,
   "id": "3992c050",
   "metadata": {},
   "outputs": [],
   "source": [
    "#while loop\n",
    "intn  (option)\n",
    "while condition:\n",
    "    stmt1\n",
    "    stmt2\n",
    "    stmt3\n",
    "    updation(compulsary)\n"
   ]
  },
  {
   "cell_type": "code",
   "execution_count": null,
   "id": "2839d7f2",
   "metadata": {},
   "outputs": [],
   "source": [
    "i=1\n",
    "while i<=10:\n",
    "    print('amit')\n",
    "    i=i+1   #updation\n",
    "    \n",
    "print(\"I am outside of the loop\")"
   ]
  },
  {
   "cell_type": "code",
   "execution_count": null,
   "id": "4320ab4b",
   "metadata": {},
   "outputs": [],
   "source": [
    "range(5)    0,1,2,3,4\n",
    "range(0,5)  0,1,2,3,4\n",
    "range(1,5)  1,2,3,4"
   ]
  },
  {
   "cell_type": "code",
   "execution_count": null,
   "id": "49e4544e",
   "metadata": {},
   "outputs": [],
   "source": []
  },
  {
   "cell_type": "code",
   "execution_count": null,
   "id": "eb700f02",
   "metadata": {},
   "outputs": [],
   "source": [
    "#reverse the given 3 digit nuber using while loop\n",
    "n = int(input(\"Enter the nuber\"))  #n=123, 12, 1\n",
    "rev = 0                            #rev=0, 3, 32, 321\n",
    "while n!=0:                        #digit = 3,2,1\n",
    "    digit = n%10     #SEPARATING THE DIGITS\n",
    "    rev=rev*10+digit  #logic\n",
    "    n=n//10   #updation \n",
    "print(rev)"
   ]
  },
  {
   "cell_type": "code",
   "execution_count": null,
   "id": "8f47089a",
   "metadata": {},
   "outputs": [],
   "source": [
    "n = input(\"Enter the nuber\")\n"
   ]
  },
  {
   "cell_type": "code",
   "execution_count": null,
   "id": "6c7f1a78",
   "metadata": {},
   "outputs": [],
   "source": [
    "print(1//10)\n",
    "print(1%10)"
   ]
  },
  {
   "cell_type": "code",
   "execution_count": null,
   "id": "e267942a",
   "metadata": {},
   "outputs": [],
   "source": [
    "#WAPC to check given number is palindrome or not \n",
    "\n",
    "\n",
    "n = int(input(\"Enter the nuber\")) \n",
    "temp =n                           #n=123, 12, 1,0\n",
    "rev = 0                            #rev=0, 3, 32, 321\n",
    "while n!=0:                        #digit = 3,2,1\n",
    "    digit = n%10     #SEPARATING THE DIGITS\n",
    "    rev=rev*10+digit  #logic\n",
    "    n=n//10   #updation \n",
    "print(rev)\n",
    "\n",
    "if rev ==temp:\n",
    "    print('Palindrome')\n",
    "else:\n",
    "    print('not')"
   ]
  },
  {
   "cell_type": "code",
   "execution_count": null,
   "id": "2c0369b6",
   "metadata": {},
   "outputs": [],
   "source": [
    "#Armstrong number\n",
    "#153\n",
    "#1+125+27=153\n",
    "n = int(input(\"Enter the nuber\")) \n",
    "temp =n                           #n=123, 12, 1,0\n",
    "sum = 0                            #rev=0, 3, 32, 321\n",
    "while n!=0:                        #digit = 3,2,1\n",
    "    digit = n%10     #SEPARATING THE DIGITS\n",
    "    sum=sum+digit**3  #logic\n",
    "    n=n//10   #updation \n",
    "\n",
    "\n",
    "if sum ==temp:\n",
    "    print('armstronge')\n",
    "else:\n",
    "    print('not')\n"
   ]
  },
  {
   "cell_type": "markdown",
   "id": "0ecf70b8",
   "metadata": {},
   "source": [
    "# Functions\n",
    "\n",
    "1. User defined function\n",
    "2. Inbuild function\n"
   ]
  },
  {
   "cell_type": "code",
   "execution_count": null,
   "id": "b07f2098",
   "metadata": {},
   "outputs": [],
   "source": [
    "#2. Inbuild function\n",
    "\n",
    "import math\n",
    "math.sqrt(4)"
   ]
  },
  {
   "cell_type": "code",
   "execution_count": null,
   "id": "9488132d",
   "metadata": {},
   "outputs": [],
   "source": [
    "dir(math)"
   ]
  },
  {
   "cell_type": "code",
   "execution_count": null,
   "id": "4a7f8540",
   "metadata": {},
   "outputs": [],
   "source": [
    "math.floor(12.3)"
   ]
  },
  {
   "cell_type": "code",
   "execution_count": null,
   "id": "2d3c2339",
   "metadata": {},
   "outputs": [],
   "source": [
    "math.e"
   ]
  },
  {
   "cell_type": "code",
   "execution_count": null,
   "id": "f75fdda8",
   "metadata": {},
   "outputs": [],
   "source": [
    "#User defined function\n",
    "\n",
    "#1. function defination\n",
    "#2. function call\n",
    "\n",
    "#1. Function defination\n",
    "#Syntax\n",
    "def functionName(parameters(input to function)):\n",
    "    stmt1\n",
    "    stmt2\n",
    "    stmt3\n",
    "    stmtn"
   ]
  },
  {
   "cell_type": "code",
   "execution_count": null,
   "id": "8be4f052",
   "metadata": {},
   "outputs": [],
   "source": [
    "#2. Function call\n",
    "functionName(parameters(input to function))"
   ]
  },
  {
   "cell_type": "code",
   "execution_count": null,
   "id": "912433c1",
   "metadata": {},
   "outputs": [],
   "source": [
    "def addition(a,b,c):\n",
    "    return a+b+c\n",
    "    #print('This function is doing addition of a b and c')"
   ]
  },
  {
   "cell_type": "code",
   "execution_count": null,
   "id": "599e8685",
   "metadata": {},
   "outputs": [],
   "source": [
    "addition(2,3,4)"
   ]
  },
  {
   "cell_type": "code",
   "execution_count": null,
   "id": "053e4bd5",
   "metadata": {},
   "outputs": [],
   "source": [
    "\n",
    "addition(int(input('Enter first number')),int(input('Enter second number')),int(input('Enter third number')))"
   ]
  },
  {
   "cell_type": "code",
   "execution_count": null,
   "id": "079e4212",
   "metadata": {},
   "outputs": [],
   "source": [
    "def Demo():\n",
    "    print('Hi This is a function that doesnot take any input')"
   ]
  },
  {
   "cell_type": "code",
   "execution_count": null,
   "id": "b17f224c",
   "metadata": {},
   "outputs": [],
   "source": [
    "Demo()"
   ]
  },
  {
   "cell_type": "code",
   "execution_count": null,
   "id": "7e68f788",
   "metadata": {},
   "outputs": [],
   "source": [
    "#Returning the result\n",
    "def substration(a,b,c):\n",
    "    return a-b-c\n",
    "    "
   ]
  },
  {
   "cell_type": "code",
   "execution_count": null,
   "id": "cb2f1ab4",
   "metadata": {},
   "outputs": [],
   "source": [
    "res = substration(2,3,4)\n",
    "print(res)"
   ]
  },
  {
   "cell_type": "code",
   "execution_count": null,
   "id": "72ed3ad5",
   "metadata": {},
   "outputs": [],
   "source": [
    "print(substration(2,3,4))"
   ]
  },
  {
   "cell_type": "code",
   "execution_count": null,
   "id": "1b1f5acd",
   "metadata": {},
   "outputs": [],
   "source": [
    "substration(2,3,4)"
   ]
  },
  {
   "cell_type": "code",
   "execution_count": null,
   "id": "87bd5b0c",
   "metadata": {},
   "outputs": [],
   "source": [
    "def addition(a,b,c):\n",
    "    return a+b+c\n",
    "\n",
    "def substration(a,b,c):\n",
    "    return a-b-c"
   ]
  },
  {
   "cell_type": "code",
   "execution_count": null,
   "id": "72346c42",
   "metadata": {},
   "outputs": [],
   "source": [
    "print(addition(3,4,5)*substration(6,7,8))"
   ]
  },
  {
   "cell_type": "code",
   "execution_count": null,
   "id": "764a8920",
   "metadata": {},
   "outputs": [],
   "source": [
    "#by default function return None\n",
    "def demo():\n",
    "    pass"
   ]
  },
  {
   "cell_type": "code",
   "execution_count": null,
   "id": "5f1edfa8",
   "metadata": {},
   "outputs": [],
   "source": [
    "print(demo())"
   ]
  },
  {
   "cell_type": "code",
   "execution_count": null,
   "id": "eb4ebbdd",
   "metadata": {},
   "outputs": [],
   "source": [
    "# Function to cal sum of three digit number\n",
    "\n",
    "\n",
    "def sumDigit(n):\n",
    "    sum=0\n",
    "    while n!=0:\n",
    "        digit = n%10\n",
    "        sum=sum+digit\n",
    "        n=n//10\n",
    "    return sum"
   ]
  },
  {
   "cell_type": "code",
   "execution_count": null,
   "id": "82988f84",
   "metadata": {},
   "outputs": [],
   "source": []
  },
  {
   "cell_type": "code",
   "execution_count": null,
   "id": "524bc955",
   "metadata": {},
   "outputs": [],
   "source": [
    "sumDigit(int(input(\"Enter Three Digit Number\")))"
   ]
  },
  {
   "cell_type": "code",
   "execution_count": null,
   "id": "5e65d0b4",
   "metadata": {},
   "outputs": [],
   "source": [
    "#Types of Parameters\n",
    "#1. Positional arg\n",
    "\n",
    "def demo(name,msg):\n",
    "    print('Hi This is {} and {}'.format(name,msg))\n",
    "    \n",
    "demo(\"Amit\",'Hi')"
   ]
  },
  {
   "cell_type": "code",
   "execution_count": null,
   "id": "0972c4bc",
   "metadata": {},
   "outputs": [],
   "source": [
    "#Keyword based arg\n",
    "\n",
    "def greet(name,msg):\n",
    "    print(name,msg)\n",
    "\n",
    "greet(name=\"Amit\",msg=\"Good Evening\")\n",
    "greet(msg=\"Good Evening\",name=\"Amit\")\n",
    "greet(\"Amit\",msg=\"Good Evening\")\n",
    "#greet('Good evening',name = 'Amit')   This is invalid as we are passing multiple values to name variable"
   ]
  },
  {
   "cell_type": "code",
   "execution_count": null,
   "id": "a869d51a",
   "metadata": {},
   "outputs": [],
   "source": [
    "#Default arguments\n",
    "def addition(a,b=0,c=0):\n",
    "    return a+b+c\n",
    "\n",
    "addition(1,2,3)"
   ]
  },
  {
   "cell_type": "code",
   "execution_count": null,
   "id": "3c84464e",
   "metadata": {},
   "outputs": [],
   "source": [
    "def addition(a = None,b = None, c=None):  #here a,b,and c have default value i.e None\n",
    "    if a!=None and b!=None and c!=None:\n",
    "        print(a+b+c)\n",
    "    elif a!=None and c!=None:\n",
    "        print(a+c)\n",
    "    elif b!=None and c!=None:\n",
    "        print(b+c)\n",
    "    elif a!=None and b!=None:\n",
    "        print(a+b)\n",
    "    else:\n",
    "        print('Provide 2 or 3 Arg')\n",
    "        \n",
    "addition(1,2,3)"
   ]
  },
  {
   "cell_type": "code",
   "execution_count": null,
   "id": "fec9f1b9",
   "metadata": {},
   "outputs": [],
   "source": [
    "def greet(name,msg=\"good eveing\"):  #We should not give default arg befor normal argument.\n",
    "    print(name,msg)\n",
    "\n",
    "\n",
    "\n",
    "greet('Amir')\n",
    "\n",
    "greet(\"Good evening\")\n",
    "\n",
    "greet(\"Amit\",\"GE\")"
   ]
  },
  {
   "cell_type": "code",
   "execution_count": null,
   "id": "ba24e446",
   "metadata": {},
   "outputs": [],
   "source": [
    "#variable lenght arguments\n",
    "def printnumbers(*n):\n",
    "    print(type(n))\n",
    "    print(n)\n"
   ]
  },
  {
   "cell_type": "code",
   "execution_count": null,
   "id": "d33e6ad5",
   "metadata": {},
   "outputs": [],
   "source": [
    "printnumbers()\n"
   ]
  },
  {
   "cell_type": "code",
   "execution_count": null,
   "id": "b3bee290",
   "metadata": {},
   "outputs": [],
   "source": [
    "printnumbers(1)"
   ]
  },
  {
   "cell_type": "code",
   "execution_count": null,
   "id": "ef3bbaa5",
   "metadata": {},
   "outputs": [],
   "source": [
    "printnumbers(1,2,3)"
   ]
  },
  {
   "cell_type": "code",
   "execution_count": null,
   "id": "4c4e5ee3",
   "metadata": {},
   "outputs": [],
   "source": [
    "#Accept N Number of natural numbers and print the sum of it\n",
    "def printNumbers(*n):\n",
    "    sum=0\n",
    "    for i in n:\n",
    "        sum+=i\n",
    "    print(sum)\n",
    "    \n",
    "printNumbers(1,2,3)"
   ]
  },
  {
   "cell_type": "code",
   "execution_count": null,
   "id": "c40816b1",
   "metadata": {
    "scrolled": true
   },
   "outputs": [],
   "source": [
    "def f1(n1,n2,*s):\n",
    "    print(\"this is first pos arg\",n1)\n",
    "    print('This is second pos arg',n2)\n",
    "    print(\"Rest all are variable lenght arg\",s)\n",
    "    for s1 in s:\n",
    "        print(s1)\n",
    "f1(2,12,13,14)"
   ]
  },
  {
   "cell_type": "code",
   "execution_count": null,
   "id": "e0d3b691",
   "metadata": {},
   "outputs": [],
   "source": [
    "def fun(a,b,c=4,d=8):\n",
    "    print(a,b,c,d)\n",
    "\n",
    "#fun(3,2)\n",
    "#fun(11,22,33,44)\n",
    "#fun(25,50,d=100)\n",
    "#fun(d=11,a=22,b=3)\n",
    "#fun()   #Error\n",
    "#fun(a=2,b=3,2,3)   \n",
    "#fun(3,4,a=2,b=3)   \n",
    "#fun(4,5,a=3)  \n",
    "fun(4,5,c=10,e=20)  "
   ]
  },
  {
   "cell_type": "code",
   "execution_count": null,
   "id": "8ab7ef65",
   "metadata": {},
   "outputs": [],
   "source": [
    "#new_list = [expression for member in iterable]\n",
    "squares = [i * i for i in range(10)]\n",
    "print(squares)"
   ]
  },
  {
   "cell_type": "code",
   "execution_count": null,
   "id": "ec8ae3b3",
   "metadata": {},
   "outputs": [],
   "source": [
    "#new_list = [expression for member in iterable (if conditional)]\n",
    "a = [i*i for i in [1,2,3,4,5] if i%2!=0]\n",
    "print(a)"
   ]
  },
  {
   "cell_type": "code",
   "execution_count": null,
   "id": "456dead5",
   "metadata": {},
   "outputs": [],
   "source": [
    "num_list = [y for y in range(100) if y % 2 == 0 if y % 5 == 0]\n",
    "print(num_list)"
   ]
  },
  {
   "cell_type": "code",
   "execution_count": null,
   "id": "eff579a2",
   "metadata": {},
   "outputs": [],
   "source": [
    "sentence = 'This is Python training'\n",
    "vowels = [i for i in sentence if i in 'aeiou']\n",
    "print(vowels)"
   ]
  },
  {
   "cell_type": "code",
   "execution_count": null,
   "id": "b698566f",
   "metadata": {},
   "outputs": [],
   "source": [
    "obj = [\"Even\" if i%2==0 else 'Old' for i in [1,2,3,4,5]]\n",
    "print(obj)"
   ]
  },
  {
   "cell_type": "code",
   "execution_count": null,
   "id": "613cb299",
   "metadata": {},
   "outputs": [],
   "source": [
    "#original_prices = [1.25, -9.45, 10.22, 3.78, -5.92, 1.16]   HW\n",
    "\n",
    "#We can call function in place of expression\n",
    "def Cube(x):\n",
    "    return x**3\n",
    "\n",
    "\n",
    "l=[1,2,3,4]\n",
    "\n",
    "a=[Cube(i) for i in l]\n",
    "print(a)"
   ]
  },
  {
   "cell_type": "code",
   "execution_count": 5,
   "id": "9126ecaf",
   "metadata": {},
   "outputs": [
    {
     "data": {
      "text/plain": [
       "25"
      ]
     },
     "execution_count": 5,
     "metadata": {},
     "output_type": "execute_result"
    }
   ],
   "source": [
    "#anonymous function\n",
    "#Function without name is called anaonymous function\n",
    "#we use lambda keyword to define this function.\n",
    "#Syntax\n",
    "#variable = lambda variablelist: expression\n",
    "\n",
    "a = lambda n:n*n\n",
    "a(5)"
   ]
  },
  {
   "cell_type": "code",
   "execution_count": 6,
   "id": "944c94f6",
   "metadata": {},
   "outputs": [
    {
     "name": "stdout",
     "output_type": "stream",
     "text": [
      "16\n"
     ]
    }
   ],
   "source": [
    "b = lambda a,b,c=8:a*b*c\n",
    "print(b(1,2))"
   ]
  },
  {
   "cell_type": "code",
   "execution_count": 7,
   "id": "f4437893",
   "metadata": {},
   "outputs": [
    {
     "name": "stdout",
     "output_type": "stream",
     "text": [
      "120\n"
     ]
    }
   ],
   "source": [
    "def mul(a,b,c):\n",
    "    print(a*b*c)\n",
    "mul(4,5,6)"
   ]
  },
  {
   "cell_type": "code",
   "execution_count": 8,
   "id": "ad45b7d4",
   "metadata": {},
   "outputs": [
    {
     "name": "stdout",
     "output_type": "stream",
     "text": [
      "4\n"
     ]
    }
   ],
   "source": [
    "#find largest number from three numbers using lambda function\n",
    "a=lambda a,b,c: a if a>b and a>c else b if b>c else c\n",
    "print(a(2,3,4))"
   ]
  },
  {
   "cell_type": "code",
   "execution_count": 9,
   "id": "9437506c",
   "metadata": {},
   "outputs": [
    {
     "name": "stdout",
     "output_type": "stream",
     "text": [
      "555\n"
     ]
    }
   ],
   "source": [
    "valuesList = [222,333,444,555,2,1]\n",
    "\n",
    "print(max(valuesList, key=lambda value: int(value)) )"
   ]
  },
  {
   "cell_type": "code",
   "execution_count": 10,
   "id": "eeabda6e",
   "metadata": {},
   "outputs": [
    {
     "data": {
      "text/plain": [
       "11"
      ]
     },
     "execution_count": 10,
     "metadata": {},
     "output_type": "execute_result"
    }
   ],
   "source": [
    "largest_number = lambda a,b,c: max(a,b,c)\n",
    "largest_number(11,2,3)"
   ]
  },
  {
   "cell_type": "code",
   "execution_count": 11,
   "id": "f48d311a",
   "metadata": {},
   "outputs": [
    {
     "name": "stdout",
     "output_type": "stream",
     "text": [
      "[1, 3]\n"
     ]
    }
   ],
   "source": [
    "#filter()\n",
    "#It is used to filter the data.\n",
    "# we can use it with lambda\n",
    "\n",
    "#Syntax\n",
    "#filter(function,sequence)\n",
    "#Filterout the odd numbers\n",
    "def isOdd(x):\n",
    "    if x%2!=0:\n",
    "        return True\n",
    "    else:\n",
    "        return False\n",
    "\n",
    "result = list(filter(isOdd,[1,2,3,4]))\n",
    "print(result)"
   ]
  },
  {
   "cell_type": "code",
   "execution_count": 12,
   "id": "5506bdcc",
   "metadata": {},
   "outputs": [
    {
     "name": "stdout",
     "output_type": "stream",
     "text": [
      "[2, 4]\n"
     ]
    }
   ],
   "source": [
    "#filterout even numbers.\n",
    "l2=list(filter(lambda x:x%2==0,[1,2,3,4]))\n",
    "print(l2)"
   ]
  },
  {
   "cell_type": "code",
   "execution_count": 13,
   "id": "15654516",
   "metadata": {},
   "outputs": [],
   "source": [
    "#Filter positive and negative numbers using filter function\n"
   ]
  },
  {
   "cell_type": "code",
   "execution_count": null,
   "id": "8275c2c5",
   "metadata": {},
   "outputs": [],
   "source": []
  },
  {
   "cell_type": "code",
   "execution_count": 14,
   "id": "509cc177",
   "metadata": {},
   "outputs": [
    {
     "name": "stdout",
     "output_type": "stream",
     "text": [
      "[2, 4, 6, 8]\n"
     ]
    }
   ],
   "source": [
    "#map(function,seq)\n",
    "\n",
    "#For every element we perform some operation and we generate new elements.\n",
    "\n",
    "\n",
    "def doublenum(x):\n",
    "    return x*2\n",
    "\n",
    "result=list(map(doublenum,[1,2,3,4]))\n",
    "print(result)"
   ]
  },
  {
   "cell_type": "code",
   "execution_count": 15,
   "id": "7170e5b5",
   "metadata": {},
   "outputs": [
    {
     "name": "stdout",
     "output_type": "stream",
     "text": [
      "[False, True, False, True]\n"
     ]
    }
   ],
   "source": [
    "def isEven(x):\n",
    "    if x%2==0:\n",
    "        return True\n",
    "    else:\n",
    "        return False\n",
    "    \n",
    "\n",
    "result=list(map(isEven,[1,2,3,4]))\n",
    "print(result)"
   ]
  },
  {
   "cell_type": "code",
   "execution_count": 16,
   "id": "09d595d5",
   "metadata": {},
   "outputs": [
    {
     "name": "stdout",
     "output_type": "stream",
     "text": [
      "34\n"
     ]
    }
   ],
   "source": [
    "#reduce()\n",
    "#Reduce function reduces the sequence of elements into single element.\n",
    "#Syntax:\n",
    "#reduce(function,sequence)\n",
    "#This reduce function is present in functools module.\n",
    "from functools import reduce\n",
    "\n",
    "result=reduce(lambda x,y:x+y,[1,2,3,4,6,10,1,3,4])\n",
    "print(result)\n",
    "\n",
    "#x=1,3,6,10,16,26,27,30,34\n",
    "#y=2,3,4,6,10,1,3,4\n"
   ]
  },
  {
   "cell_type": "code",
   "execution_count": 17,
   "id": "8369d28b",
   "metadata": {},
   "outputs": [
    {
     "ename": "NameError",
     "evalue": "name 'classVariables' is not defined",
     "output_type": "error",
     "traceback": [
      "\u001b[1;31m---------------------------------------------------------------------------\u001b[0m",
      "\u001b[1;31mNameError\u001b[0m                                 Traceback (most recent call last)",
      "\u001b[1;32m~\\AppData\\Local\\Temp/ipykernel_6836/3344497773.py\u001b[0m in \u001b[0;36m<module>\u001b[1;34m\u001b[0m\n\u001b[0;32m      2\u001b[0m \u001b[1;31m#OOP\u001b[0m\u001b[1;33m\u001b[0m\u001b[1;33m\u001b[0m\u001b[0m\n\u001b[0;32m      3\u001b[0m \u001b[1;33m\u001b[0m\u001b[0m\n\u001b[1;32m----> 4\u001b[1;33m \u001b[1;32mclass\u001b[0m \u001b[0mClassName\u001b[0m\u001b[1;33m:\u001b[0m\u001b[1;33m\u001b[0m\u001b[1;33m\u001b[0m\u001b[0m\n\u001b[0m\u001b[0;32m      5\u001b[0m     \u001b[0mclassVariables\u001b[0m\u001b[1;33m(\u001b[0m\u001b[0moptioanls\u001b[0m\u001b[1;33m)\u001b[0m\u001b[1;33m\u001b[0m\u001b[1;33m\u001b[0m\u001b[0m\n\u001b[0;32m      6\u001b[0m     \u001b[0mconstructor\u001b[0m \u001b[1;33m(\u001b[0m\u001b[0moptional\u001b[0m\u001b[1;33m)\u001b[0m\u001b[1;33m\u001b[0m\u001b[1;33m\u001b[0m\u001b[0m\n",
      "\u001b[1;32m~\\AppData\\Local\\Temp/ipykernel_6836/3344497773.py\u001b[0m in \u001b[0;36mClassName\u001b[1;34m()\u001b[0m\n\u001b[0;32m      3\u001b[0m \u001b[1;33m\u001b[0m\u001b[0m\n\u001b[0;32m      4\u001b[0m \u001b[1;32mclass\u001b[0m \u001b[0mClassName\u001b[0m\u001b[1;33m:\u001b[0m\u001b[1;33m\u001b[0m\u001b[1;33m\u001b[0m\u001b[0m\n\u001b[1;32m----> 5\u001b[1;33m     \u001b[0mclassVariables\u001b[0m\u001b[1;33m(\u001b[0m\u001b[0moptioanls\u001b[0m\u001b[1;33m)\u001b[0m\u001b[1;33m\u001b[0m\u001b[1;33m\u001b[0m\u001b[0m\n\u001b[0m\u001b[0;32m      6\u001b[0m     \u001b[0mconstructor\u001b[0m \u001b[1;33m(\u001b[0m\u001b[0moptional\u001b[0m\u001b[1;33m)\u001b[0m\u001b[1;33m\u001b[0m\u001b[1;33m\u001b[0m\u001b[0m\n\u001b[0;32m      7\u001b[0m     \u001b[0mmethods\u001b[0m     \u001b[1;33m(\u001b[0m\u001b[0moptional\u001b[0m\u001b[1;33m)\u001b[0m\u001b[1;33m\u001b[0m\u001b[1;33m\u001b[0m\u001b[0m\n",
      "\u001b[1;31mNameError\u001b[0m: name 'classVariables' is not defined"
     ]
    }
   ],
   "source": [
    "#20/08/2022\n",
    "#OOP\n",
    "\n",
    "class ClassName:\n",
    "    classVariables(optioanls)\n",
    "    constructor (optional)\n",
    "    methods     (optional)\n"
   ]
  },
  {
   "cell_type": "code",
   "execution_count": null,
   "id": "27173f9b",
   "metadata": {},
   "outputs": [],
   "source": [
    "class Demo:\n",
    "    \"\"\"This is demo class\"\"\"\n",
    "    pass\n"
   ]
  },
  {
   "cell_type": "code",
   "execution_count": null,
   "id": "3dbe238c",
   "metadata": {},
   "outputs": [],
   "source": [
    "print(Demo.__doc__)"
   ]
  },
  {
   "cell_type": "code",
   "execution_count": null,
   "id": "457ee1b3",
   "metadata": {},
   "outputs": [],
   "source": [
    "#write class\n",
    "class Student:\n",
    "    \n",
    "    def accept(self):\n",
    "        self.name=input(\"Enter name:\")\n",
    "        self.age=input(\"Enter age:\")\n",
    "        self.address = input(\"Enter address:\")\n",
    "        self.sal=input('Enter sal:')\n",
    "        \n",
    "    def display(self):\n",
    "        print(self.name,self.age,self.address,self.sal)\n"
   ]
  },
  {
   "cell_type": "code",
   "execution_count": null,
   "id": "bcc2aee2",
   "metadata": {},
   "outputs": [],
   "source": [
    "#create object\n",
    "#variable/object name=classname\n",
    "Amit = Student()  #Create the object\n",
    "Amit.accept()  #access instance method"
   ]
  },
  {
   "cell_type": "code",
   "execution_count": null,
   "id": "b11dd935",
   "metadata": {},
   "outputs": [],
   "source": [
    "Amit.display()"
   ]
  },
  {
   "cell_type": "code",
   "execution_count": null,
   "id": "3c1f9033",
   "metadata": {},
   "outputs": [],
   "source": [
    "print(Amit.name)  #access instance variable"
   ]
  },
  {
   "cell_type": "code",
   "execution_count": null,
   "id": "3b7dabfc",
   "metadata": {},
   "outputs": [],
   "source": [
    "print(Amit.address)"
   ]
  },
  {
   "cell_type": "code",
   "execution_count": null,
   "id": "0dc6236c",
   "metadata": {},
   "outputs": [],
   "source": [
    "pawan = Student() \n",
    "pawan.accept()\n",
    "pawan.display()"
   ]
  },
  {
   "cell_type": "code",
   "execution_count": null,
   "id": "c280cb94",
   "metadata": {},
   "outputs": [],
   "source": [
    "Amit.display()"
   ]
  },
  {
   "cell_type": "code",
   "execution_count": null,
   "id": "b32147fe",
   "metadata": {},
   "outputs": [],
   "source": [
    "# Constructor \n",
    "#1. Its a speacial type of method\n",
    "#2. It is used to initialize the instance variable \n",
    "#3. Only one constructor is there in python\n",
    "#4. name of the constructor is __init__()\n",
    "#5 syantax:\n",
    "def __init__(self):\n",
    "    #initializing the instance variable\n",
    "# 6. it is called when we create the object. \n"
   ]
  },
  {
   "cell_type": "code",
   "execution_count": null,
   "id": "5913fbd1",
   "metadata": {},
   "outputs": [],
   "source": [
    "class Person:\n",
    "    def __init__(self):  #constructor \n",
    "        print('This is constructor')\n"
   ]
  },
  {
   "cell_type": "code",
   "execution_count": null,
   "id": "49e43497",
   "metadata": {},
   "outputs": [],
   "source": [
    "p = Person()  #It automatically call constructor"
   ]
  },
  {
   "cell_type": "code",
   "execution_count": null,
   "id": "c2919af7",
   "metadata": {},
   "outputs": [],
   "source": [
    "class Person:\n",
    "    def __init__(self):  #constructor \n",
    "        self.name=input('Enter name:')\n",
    "        self.sal = input('Enter sal:')\n",
    "        self.age=input('Enter age:')\n",
    "    def display(self):\n",
    "        print(self.name,self.sal,self.age,self.dept,self.address)\n",
    "    def accept(self):\n",
    "        self.dept=input('Enter Dept name:')\n",
    "        self.address=input('Enter address:')"
   ]
  },
  {
   "cell_type": "code",
   "execution_count": null,
   "id": "460038bc",
   "metadata": {},
   "outputs": [],
   "source": [
    "p = Person() \n",
    "p.accept()\n",
    "p.display()"
   ]
  },
  {
   "cell_type": "code",
   "execution_count": null,
   "id": "6da2a9ec",
   "metadata": {},
   "outputs": [],
   "source": [
    "class Employee:\n",
    "    def __init__(self,name1,sal1,age1):  #constructor \n",
    "        self.name=name1\n",
    "        self.sal = sal1\n",
    "        self.age=age1\n",
    "    def display(self):\n",
    "        print(self.name,self.sal,self.age,self.dept,self.address)\n",
    "    def accept(self):\n",
    "        self.dept=input('Enter Dept name:')\n",
    "        self.address=input('Enter address:')"
   ]
  },
  {
   "cell_type": "code",
   "execution_count": null,
   "id": "3a9f98e3",
   "metadata": {},
   "outputs": [],
   "source": [
    "e = Employee('Ami',10000,30)\n",
    "e.accept()\n",
    "e.display()"
   ]
  },
  {
   "cell_type": "code",
   "execution_count": null,
   "id": "8745564a",
   "metadata": {},
   "outputs": [],
   "source": [
    "#Bank case study\n",
    "\n",
    "class Bank:\n",
    "    name = \"ABC Bank\"   #class variable/ static variable\n",
    "    \n",
    "    def __init__(self):\n",
    "        self.accno=input('Enter account number:')\n",
    "        self.name = input('Enter Name:')\n",
    "        self.bal = 1000\n",
    "    def accept(self):\n",
    "        self.age=input('Enter age:')\n",
    "        self.address = input('Enter address:')\n",
    "    def deposite(self):\n",
    "        print('Bal before deposite:',self.bal)\n",
    "        self.dept_ammt = int(input('Enter ammount to be deposited:'))\n",
    "        self.bal = self.bal+self.dept_ammt\n",
    "        print('Bal after deposite:',self.bal)\n",
    "        \n",
    "    def withdraw(self):\n",
    "        print('Bal Before withdraw:',self.bal)\n",
    "        self.with_ammt = int(input('Enter ammount to be withdraw:'))\n",
    "        if self.with_ammt>self.bal:\n",
    "            print('Withdraw is not possible:')\n",
    "        else:\n",
    "            self.bal=self.bal-self.with_amm\n",
    "        print('Bal after withdraw:',self.bal)\n",
    "        \n",
    "    def display(self):\n",
    "        print(Bank.name,self.accno,self.name,self.bal,self.age,self.address)"
   ]
  },
  {
   "cell_type": "code",
   "execution_count": null,
   "id": "7b07aa32",
   "metadata": {},
   "outputs": [],
   "source": [
    "b = Bank()\n",
    "b.accept()\n",
    "b.deposite()\n",
    "b.withdraw()\n",
    "b.display()"
   ]
  },
  {
   "cell_type": "code",
   "execution_count": null,
   "id": "cb48b510",
   "metadata": {},
   "outputs": [],
   "source": [
    "#Types of variables in oop\n",
    "#1. instance variable\n",
    "#2. class/static variable\n",
    "#3. local variable\n",
    "\n",
    "class VariableDemo:\n",
    "    a = 100  #class variable\n",
    "    def __init__(self,b,c,d):    #here b,c,d are local variables\n",
    "        self.a = 10 #Instance variable\n",
    "        self.b=b\n",
    "        self.c = c\n",
    "        self.d = d\n",
    "    def accept(self):\n",
    "        VariableDemo.z=100000\n",
    "        self.e = input('Enter the value of e:')\n",
    "    def display(self):\n",
    "        print(VariableDemo.a,self.a,self.b,self.c,self.d,self.e,VariableDemo.z)\n",
    "v = VariableDemo(1,2,3)\n",
    "v. accept()\n",
    "v.display()\n",
    "print(v.a,v.b)\n",
    "print(VariableDemo.a,VariableDemo.z)"
   ]
  },
  {
   "cell_type": "code",
   "execution_count": null,
   "id": "4e4c4202",
   "metadata": {},
   "outputs": [],
   "source": [
    "###Characteristics of OOP###\n",
    "#1. Inheritance\n",
    "#2. Polymorphism \n",
    "#3. Encaapsulation\n",
    "#4. Interface\n",
    "#5. Abstraction \n",
    "\n"
   ]
  },
  {
   "cell_type": "code",
   "execution_count": null,
   "id": "c022d15e",
   "metadata": {},
   "outputs": [],
   "source": [
    "#1. Inheritance \n",
    "#simple inheritance\n",
    "#Multilevel inheritance\n",
    "#Multiple inheritance. \n",
    "\n",
    "#Simple Inheritance \n",
    "#Only one parent for child then it is called simple inheritance \n",
    "class Demo:\n",
    "    def __init__(self):\n",
    "        self.a = input('Enter number:')\n",
    "        self.b=input('Enter second number:')\n",
    "    def display(self):\n",
    "        print(self.a,self.b)\n",
    "\n",
    "class Child(Demo):\n",
    "    def __init__(self):\n",
    "        super().__init__()   #Calling the constructor of parent\n",
    "        self.c = 1000\n",
    "        print(self.c)\n",
    "              \n",
    "c = Child()\n",
    "c.display()"
   ]
  },
  {
   "cell_type": "code",
   "execution_count": null,
   "id": "3ff92c15",
   "metadata": {},
   "outputs": [],
   "source": [
    "class Person:\n",
    "    def accept(self):\n",
    "        self.id = input('Enter ID:')\n",
    "        self.name= input('Enter name:')\n",
    "        self.address = input('Enter address')\n",
    "        self.age=input('Enter age:')\n",
    "\n",
    "class Employee(Person):\n",
    "    def __init__(self):\n",
    "        self.emp_dept = input('Enter Emp Dept:')\n",
    "        self.emp_sal = input('Enter Emp sal:')\n",
    "    def display(self):\n",
    "        print(self.id,self.name,self.address, self.age,self.emp_dept,self.emp_sal)\n",
    "\n",
    "    "
   ]
  },
  {
   "cell_type": "code",
   "execution_count": null,
   "id": "4cac9521",
   "metadata": {},
   "outputs": [],
   "source": [
    "e = Employee()\n",
    "e.accept()\n",
    "e.display()"
   ]
  },
  {
   "cell_type": "code",
   "execution_count": null,
   "id": "c8f1fba4",
   "metadata": {},
   "outputs": [],
   "source": [
    "##Multilevel Inheritance\n",
    "class Person:\n",
    "    def accept(self):\n",
    "        self.id = input('Enter ID:')\n",
    "        self.name= input('Enter name:')\n",
    "        self.address = input('Enter address')\n",
    "        self.age=input('Enter age:')\n",
    "\n",
    "class Employee(Person):\n",
    "        def __init__(self):\n",
    "            self.emp_dept = input('Enter Emp Dept:')\n",
    "            self.emp_sal = input('Enter Emp sal:')\n",
    "        \n",
    "class Admin(Employee):\n",
    "    def __init__(self):\n",
    "            self.attendance = 10\n",
    "            super().__init__()\n",
    "        \n",
    "    def display(self):\n",
    "            print(self.attendance, self.emp_dept,self.emp_sal,self.id,self.name, self.address,self.age)"
   ]
  },
  {
   "cell_type": "code",
   "execution_count": null,
   "id": "58ff0ad2",
   "metadata": {},
   "outputs": [],
   "source": [
    "a = Admin()\n",
    "a.accept()\n",
    "a.display()"
   ]
  },
  {
   "cell_type": "code",
   "execution_count": null,
   "id": "b803866a",
   "metadata": {},
   "outputs": [],
   "source": [
    "#Multiple Inheritance \n",
    "\n",
    "#Multiple parent for one child \n",
    "class Person:\n",
    "    def __init__(self):\n",
    "        self.id = input('Enter ID:')\n",
    "        self.name= input('Enter name:')\n",
    "        self.address = input('Enter address')\n",
    "        self.age=input('Enter age:')\n",
    "\n",
    "class Employee:\n",
    "    def __init__(self):\n",
    "        self.emp_dept = input('Enter Emp Dept:')\n",
    "        self.emp_sal = input('Enter Emp sal:')\n",
    "        \n",
    "class Admin(Person,Employee):\n",
    "    def __init__(self):\n",
    "        self.attendance = 10\n",
    "        Person.__init__(self)\n",
    "        Employee.__init__(self)\n",
    "    def display(self):\n",
    "            print(self.attendance, self.emp_dept,self.emp_sal,self.id,self.name, self.address,self.age)"
   ]
  },
  {
   "cell_type": "code",
   "execution_count": null,
   "id": "a5999bcb",
   "metadata": {},
   "outputs": [],
   "source": [
    "a = Admin()\n",
    "a.display()"
   ]
  },
  {
   "cell_type": "code",
   "execution_count": null,
   "id": "04e2abeb",
   "metadata": {},
   "outputs": [],
   "source": [
    "#Polymorphism \n",
    "\n",
    "#Ability of an object to take more than one form \n",
    "\n",
    "#Types of Polymorphism:\n",
    "#Overloading\n",
    "#Overriding\n",
    "#Method  overloading  (Python does not support method overloading )\n",
    "\n",
    "class MethodOverloading:\n",
    "    def m1(self):\n",
    "        print('I am in m1 method')\n",
    "    def m1(self,a):\n",
    "        print('i am in second method having 1  para')   \n",
    "    def m1(self,a,b,c):\n",
    "        print('I am in third method having 2 para')\n",
    "    def m1(self,a,b):\n",
    "        print('I am in third method having 2 para')\n",
    "\n",
    "m = MethodOverloading()\n",
    "m.m1()\n"
   ]
  },
  {
   "cell_type": "code",
   "execution_count": null,
   "id": "6058b9bc",
   "metadata": {},
   "outputs": [],
   "source": [
    "class PythonMethodOverloadingPossible:\n",
    "    def m1(self,a=0,b=0,c=0):\n",
    "        print(a,b,c)\n",
    "p = PythonMethodOverloadingPossible()\n",
    "p.m1()\n",
    "p.m1(2)\n",
    "p.m1(2,3,4)"
   ]
  },
  {
   "cell_type": "code",
   "execution_count": null,
   "id": "5d32783f",
   "metadata": {},
   "outputs": [],
   "source": [
    "class ConstructorOverloading:   #Constructor Overloading is also not possible but can be achived using default arg list or variable lenght arg list.\n",
    "    def __init__(self):\n",
    "        print('First init')\n",
    "    def __init__(self,a):\n",
    "        print('second init')"
   ]
  },
  {
   "cell_type": "code",
   "execution_count": null,
   "id": "597fa921",
   "metadata": {},
   "outputs": [],
   "source": [
    "c = ConstructorOverloading(1)"
   ]
  },
  {
   "cell_type": "code",
   "execution_count": null,
   "id": "c8208d01",
   "metadata": {},
   "outputs": [],
   "source": [
    "#Overriding: having same name same argument list but different implementation\n",
    "class Parent:\n",
    "    def property1(self):\n",
    "        print('Land,cash,Home,Power')\n",
    "    def marry(self):\n",
    "        print('xyz')\n",
    "\n",
    "class Child(Parent):\n",
    "    def marry(self):\n",
    "        print('abc')\n",
    "        \n",
    "c =Child()\n",
    "c.marry()"
   ]
  },
  {
   "cell_type": "code",
   "execution_count": 21,
   "id": "53170c06",
   "metadata": {},
   "outputs": [],
   "source": [
    "#Abstraction\n",
    "#Its a ability of an method or class to hide the unnesessary details and show important one. \n",
    "#!pip install functools\n",
    "from abc import *\n",
    "#from functools import abc\n",
    "\n",
    "class Database:\n",
    "    @abstractmethod\n",
    "    def connect(self):\n",
    "        pass\n",
    "    @abstractmethod\n",
    "    def disconnect(self):\n",
    "        pass\n"
   ]
  },
  {
   "cell_type": "code",
   "execution_count": null,
   "id": "6f420130",
   "metadata": {},
   "outputs": [],
   "source": [
    "class Oracle(Database):\n",
    "    def connect(self):\n",
    "        print('Write the logic to connect to database')\n",
    "    def disconnect(self):\n",
    "        print('Write the logic to disconnect the connection of oracle')"
   ]
  },
  {
   "cell_type": "code",
   "execution_count": null,
   "id": "60392915",
   "metadata": {},
   "outputs": [],
   "source": [
    "class MySql(Database):\n",
    "    def connect(self):\n",
    "        print('Write the logic to connect to database')\n",
    "    def disconnect(self):\n",
    "        print('Write the logic to disconnect the connection of MySql')"
   ]
  },
  {
   "cell_type": "code",
   "execution_count": 5,
   "id": "2709d05c",
   "metadata": {},
   "outputs": [],
   "source": [
    "#Interface\n",
    "from abc import *\n",
    "\n",
    "\n",
    "class Database(ABC):   #interface\n",
    "    @abstractmethod\n",
    "    def connect(self):\n",
    "        pass\n",
    "    @abstractmethod\n",
    "    def disconnect(self):\n",
    "        pass"
   ]
  },
  {
   "cell_type": "code",
   "execution_count": null,
   "id": "e9358891",
   "metadata": {},
   "outputs": [],
   "source": []
  },
  {
   "cell_type": "code",
   "execution_count": 10,
   "id": "c49d83ce",
   "metadata": {},
   "outputs": [],
   "source": [
    "class Oracle(Database):\n",
    "    def connect(self):\n",
    "        print('Write the logic to connect to database')\n",
    "    def disconnect(self):\n",
    "        pass\n",
    "\n",
    "o = Oracle()\n",
    "        \n"
   ]
  },
  {
   "cell_type": "code",
   "execution_count": null,
   "id": "34cded98",
   "metadata": {},
   "outputs": [],
   "source": [
    "class MySql(Database):\n",
    "    def connect(self):\n",
    "        print('Write the logic to connect to database')\n",
    "    def disconnect(self):\n",
    "        print('Write the logic to disconnect the connection of MySql')"
   ]
  },
  {
   "cell_type": "code",
   "execution_count": null,
   "id": "ce8bc0ad",
   "metadata": {},
   "outputs": [],
   "source": [
    "#Encapsulation \n",
    "\n",
    "1. Public \n",
    "a = 10\n",
    "__a__=10\n",
    "\n",
    "2. Private\n",
    "__a=20"
   ]
  },
  {
   "cell_type": "code",
   "execution_count": 13,
   "id": "99b73554",
   "metadata": {},
   "outputs": [
    {
     "name": "stdout",
     "output_type": "stream",
     "text": [
      "10\n"
     ]
    },
    {
     "ename": "AttributeError",
     "evalue": "type object 'Test' has no attribute '__z'",
     "output_type": "error",
     "traceback": [
      "\u001b[1;31m---------------------------------------------------------------------------\u001b[0m",
      "\u001b[1;31mAttributeError\u001b[0m                            Traceback (most recent call last)",
      "\u001b[1;32m~\\AppData\\Local\\Temp/ipykernel_13484/2023786739.py\u001b[0m in \u001b[0;36m<module>\u001b[1;34m\u001b[0m\n\u001b[0;32m      8\u001b[0m \u001b[0mt\u001b[0m \u001b[1;33m=\u001b[0m \u001b[0mTest\u001b[0m\u001b[1;33m(\u001b[0m\u001b[1;33m)\u001b[0m\u001b[1;33m\u001b[0m\u001b[1;33m\u001b[0m\u001b[0m\n\u001b[0;32m      9\u001b[0m \u001b[0mprint\u001b[0m\u001b[1;33m(\u001b[0m\u001b[0mTest\u001b[0m\u001b[1;33m.\u001b[0m\u001b[0mx\u001b[0m\u001b[1;33m)\u001b[0m\u001b[1;33m\u001b[0m\u001b[1;33m\u001b[0m\u001b[0m\n\u001b[1;32m---> 10\u001b[1;33m \u001b[0mprint\u001b[0m\u001b[1;33m(\u001b[0m\u001b[0mTest\u001b[0m\u001b[1;33m.\u001b[0m\u001b[0m__z\u001b[0m\u001b[1;33m)\u001b[0m\u001b[1;33m\u001b[0m\u001b[1;33m\u001b[0m\u001b[0m\n\u001b[0m",
      "\u001b[1;31mAttributeError\u001b[0m: type object 'Test' has no attribute '__z'"
     ]
    }
   ],
   "source": [
    "class Test:\n",
    "    x = 10   #Public\n",
    "    __z=30  #private\n",
    "    def m1(self):\n",
    "        print(Test.x)\n",
    "        print(Test.__z)\n",
    "\n",
    "t = Test()\n",
    "print(Test.x)\n",
    "print(Test.__z)"
   ]
  },
  {
   "cell_type": "code",
   "execution_count": 14,
   "id": "1a56a527",
   "metadata": {},
   "outputs": [
    {
     "data": {
      "text/plain": [
       "30"
      ]
     },
     "execution_count": 14,
     "metadata": {},
     "output_type": "execute_result"
    }
   ],
   "source": [
    "#How to access private members from outside the class\n",
    "#we can do that using \"objectReference._classname__varibale name\"\n",
    "t._Test__z"
   ]
  },
  {
   "cell_type": "code",
   "execution_count": null,
   "id": "bcaa4005",
   "metadata": {},
   "outputs": [],
   "source": []
  },
  {
   "cell_type": "code",
   "execution_count": null,
   "id": "9b91dbee",
   "metadata": {},
   "outputs": [],
   "source": [
    "#Exception Handling \n"
   ]
  },
  {
   "cell_type": "code",
   "execution_count": null,
   "id": "b7295822",
   "metadata": {},
   "outputs": [],
   "source": [
    "BaseException\n",
    "\n",
    "Exception\n",
    "\n",
    "AttibuteError\n",
    "ValueError\n",
    "ZeroDevisionError\n",
    "FileNotFoundErro\n",
    "TypeError\n",
    "\n",
    "\n",
    "class MyException(Exception)\n",
    "\n"
   ]
  },
  {
   "cell_type": "code",
   "execution_count": null,
   "id": "f691b356",
   "metadata": {},
   "outputs": [],
   "source": [
    "try\n",
    "except \n",
    "finally\n",
    "else \n"
   ]
  },
  {
   "cell_type": "code",
   "execution_count": 32,
   "id": "801d4cdb",
   "metadata": {},
   "outputs": [
    {
     "name": "stdout",
     "output_type": "stream",
     "text": [
      "Enter a:1\n",
      "Enter b:0\n"
     ]
    },
    {
     "ename": "ZeroDivisionError",
     "evalue": "division by zero",
     "output_type": "error",
     "traceback": [
      "\u001b[1;31m---------------------------------------------------------------------------\u001b[0m",
      "\u001b[1;31mZeroDivisionError\u001b[0m                         Traceback (most recent call last)",
      "\u001b[1;32m~\\AppData\\Local\\Temp/ipykernel_13484/3846157342.py\u001b[0m in \u001b[0;36m<module>\u001b[1;34m\u001b[0m\n\u001b[0;32m      2\u001b[0m \u001b[0ma\u001b[0m \u001b[1;33m=\u001b[0m \u001b[0mint\u001b[0m\u001b[1;33m(\u001b[0m\u001b[0minput\u001b[0m\u001b[1;33m(\u001b[0m\u001b[1;34m'Enter a:'\u001b[0m\u001b[1;33m)\u001b[0m\u001b[1;33m)\u001b[0m\u001b[1;33m\u001b[0m\u001b[1;33m\u001b[0m\u001b[0m\n\u001b[0;32m      3\u001b[0m \u001b[0mb\u001b[0m \u001b[1;33m=\u001b[0m \u001b[0mint\u001b[0m\u001b[1;33m(\u001b[0m\u001b[0minput\u001b[0m\u001b[1;33m(\u001b[0m\u001b[1;34m'Enter b:'\u001b[0m\u001b[1;33m)\u001b[0m\u001b[1;33m)\u001b[0m\u001b[1;33m\u001b[0m\u001b[1;33m\u001b[0m\u001b[0m\n\u001b[1;32m----> 4\u001b[1;33m \u001b[0mprint\u001b[0m\u001b[1;33m(\u001b[0m\u001b[0ma\u001b[0m\u001b[1;33m/\u001b[0m\u001b[0mb\u001b[0m\u001b[1;33m)\u001b[0m\u001b[1;33m\u001b[0m\u001b[1;33m\u001b[0m\u001b[0m\n\u001b[0m\u001b[0;32m      5\u001b[0m \u001b[0mprint\u001b[0m\u001b[1;33m(\u001b[0m\u001b[1;34m'This is further continuation of code'\u001b[0m\u001b[1;33m)\u001b[0m\u001b[1;33m\u001b[0m\u001b[1;33m\u001b[0m\u001b[0m\n",
      "\u001b[1;31mZeroDivisionError\u001b[0m: division by zero"
     ]
    }
   ],
   "source": [
    "#Code withoud exception(error) handling withh abnormally terminate our execution\n",
    "a = int(input('Enter a:'))\n",
    "b = int(input('Enter b:'))\n",
    "print(a/b)\n",
    "print('This is further continuation of code')"
   ]
  },
  {
   "cell_type": "code",
   "execution_count": 21,
   "id": "89f06a46",
   "metadata": {},
   "outputs": [
    {
     "name": "stdout",
     "output_type": "stream",
     "text": [
      "Enter a:10\n",
      "Enter b:0\n",
      "Pls check Denominator\n",
      "This is further continuation of code\n"
     ]
    }
   ],
   "source": [
    "#This code contains exception handling that prevents abnormal termination of code.\n",
    "a = int(input('Enter a:'))\n",
    "b = int(input('Enter b:'))\n",
    "try:\n",
    "    print(a/b)\n",
    "except:\n",
    "    print('Pls check Denominator')\n",
    "print('This is further continuation of code')"
   ]
  },
  {
   "cell_type": "code",
   "execution_count": 22,
   "id": "95630425",
   "metadata": {},
   "outputs": [
    {
     "name": "stdout",
     "output_type": "stream",
     "text": [
      "Enter a:10\n",
      "Enter b:0\n",
      "division by zero\n",
      "This is further continuation of code\n"
     ]
    }
   ],
   "source": [
    "a = int(input('Enter a:'))\n",
    "b = int(input('Enter b:'))\n",
    "try:\n",
    "    print(a/b)\n",
    "except ZeroDivisionError as e:\n",
    "    print(e)\n",
    "print('This is further continuation of code')"
   ]
  },
  {
   "cell_type": "code",
   "execution_count": 28,
   "id": "943bab50",
   "metadata": {},
   "outputs": [
    {
     "name": "stdout",
     "output_type": "stream",
     "text": [
      "Enter a:1\n",
      "Enter b:2\n",
      "unsupported operand type(s) for /: 'tuple' and 'int'\n",
      "This is further continuation of code\n"
     ]
    }
   ],
   "source": [
    "a = int(input('Enter a:'))\n",
    "b = int(input('Enter b:'))\n",
    "a = (1,2,3)\n",
    "try:\n",
    "    print(a/b)\n",
    "    f = open('amit.txt','w')\n",
    "    a.add(4)\n",
    "except (ZeroDivisionError,FileNotFoundError,TypeError) as e:\n",
    "    print(e)\n",
    "print('This is further continuation of code')"
   ]
  },
  {
   "cell_type": "code",
   "execution_count": 31,
   "id": "4e903948",
   "metadata": {},
   "outputs": [
    {
     "name": "stdout",
     "output_type": "stream",
     "text": [
      "Enter a:1\n",
      "Enter b:2\n",
      "0.5\n",
      "[Errno 2] No such file or directory: 'amit.txt'\n",
      "This is further continuation of code\n"
     ]
    }
   ],
   "source": [
    "a = int(input('Enter a:'))\n",
    "b = int(input('Enter b:'))\n",
    "#a = (1,2,3)\n",
    "try:\n",
    "    print(a/b)\n",
    "    f = open('amit.txt','r')\n",
    "    #a.add(4)\n",
    "except Exception as e:\n",
    "    print(e)\n",
    "print('This is further continuation of code')"
   ]
  },
  {
   "cell_type": "code",
   "execution_count": 35,
   "id": "4d8fa092",
   "metadata": {},
   "outputs": [
    {
     "name": "stdout",
     "output_type": "stream",
     "text": [
      "5.0\n",
      "Tuple is immutable 'tuple' object has no attribute 'add'\n",
      "I am able to execute\n"
     ]
    }
   ],
   "source": [
    "#we can have more than on except block\n",
    "try:\n",
    "    f=open(\"r1.txt\",\"w\")\n",
    "    print(10/2)\n",
    "    t=(1,2,3)\n",
    "    t.add(10)\n",
    "except FileNotFoundError as e:\n",
    "    print(e)\n",
    "except ZeroDivisionError as e:\n",
    "    print(e)\n",
    "except ValueError as v:c\n",
    "    print(v)\n",
    "except AttributeError as e:\n",
    "    print(\"Tuple is immutable\",e)\n",
    "except Exception as e:\n",
    "    print(e)\n",
    "\n",
    "\n",
    "print(\"I am able to execute\")\n"
   ]
  },
  {
   "cell_type": "code",
   "execution_count": 41,
   "id": "e073788f",
   "metadata": {},
   "outputs": [
    {
     "name": "stdout",
     "output_type": "stream",
     "text": [
      "I am going to execute everytime\n"
     ]
    }
   ],
   "source": [
    "# Finally block\n",
    "try:\n",
    "    f=open(\"r2.txt\",\"w\")\n",
    "except Exception as e:\n",
    "    print(e)\n",
    "finally:\n",
    "    print(\"I am going to execute everytime\")\n",
    "    "
   ]
  },
  {
   "cell_type": "code",
   "execution_count": 44,
   "id": "b1a849a6",
   "metadata": {},
   "outputs": [
    {
     "name": "stdout",
     "output_type": "stream",
     "text": [
      "[Errno 2] No such file or directory: 'r3.txt'\n",
      "I am going to execute everytime\n"
     ]
    }
   ],
   "source": [
    "#else\n",
    "try:\n",
    "    f=open(\"r3.txt\",\"r\")\n",
    "except Exception as e:\n",
    "    print(e)\n",
    "else:\n",
    "    print('Dont have exception in code')\n",
    "finally:\n",
    "    print(\"I am going to execute everytime\")\n"
   ]
  },
  {
   "cell_type": "code",
   "execution_count": null,
   "id": "024dccde",
   "metadata": {},
   "outputs": [],
   "source": [
    "# Code to write user defined Exception \n",
    "syntax:\n",
    "#class classname(Exception):\n",
    "#    def __init__(self,arg):\n",
    "#        self.msg=arg"
   ]
  },
  {
   "cell_type": "code",
   "execution_count": 45,
   "id": "8bae271b",
   "metadata": {},
   "outputs": [],
   "source": [
    "class TooYoungException(Exception):\n",
    "    def __init__(self,arg):\n",
    "        self.msg=arg\n",
    "        \n",
    "class TooOldException(Exception):\n",
    "    def __init__(self,arg):\n",
    "        self.msg=arg\n"
   ]
  },
  {
   "cell_type": "code",
   "execution_count": 49,
   "id": "7a98c214",
   "metadata": {},
   "outputs": [
    {
     "name": "stdout",
     "output_type": "stream",
     "text": [
      "Enter age10\n"
     ]
    },
    {
     "ename": "TooYoungException",
     "evalue": "You are too young to marry",
     "output_type": "error",
     "traceback": [
      "\u001b[1;31m---------------------------------------------------------------------------\u001b[0m",
      "\u001b[1;31mTooYoungException\u001b[0m                         Traceback (most recent call last)",
      "\u001b[1;32m~\\AppData\\Local\\Temp/ipykernel_13484/3638713471.py\u001b[0m in \u001b[0;36m<module>\u001b[1;34m\u001b[0m\n\u001b[0;32m      3\u001b[0m     \u001b[1;32mraise\u001b[0m \u001b[0mTooOldException\u001b[0m\u001b[1;33m(\u001b[0m\u001b[1;34m\"You are too old to marry\"\u001b[0m\u001b[1;33m)\u001b[0m\u001b[1;33m\u001b[0m\u001b[1;33m\u001b[0m\u001b[0m\n\u001b[0;32m      4\u001b[0m \u001b[1;32melif\u001b[0m \u001b[0mage\u001b[0m\u001b[1;33m<\u001b[0m\u001b[1;36m18\u001b[0m\u001b[1;33m:\u001b[0m\u001b[1;33m\u001b[0m\u001b[1;33m\u001b[0m\u001b[0m\n\u001b[1;32m----> 5\u001b[1;33m     \u001b[1;32mraise\u001b[0m \u001b[0mTooYoungException\u001b[0m\u001b[1;33m(\u001b[0m\u001b[1;34m\"You are too young to marry\"\u001b[0m\u001b[1;33m)\u001b[0m\u001b[1;33m\u001b[0m\u001b[1;33m\u001b[0m\u001b[0m\n\u001b[0m\u001b[0;32m      6\u001b[0m \u001b[1;32melse\u001b[0m\u001b[1;33m:\u001b[0m\u001b[1;33m\u001b[0m\u001b[1;33m\u001b[0m\u001b[0m\n\u001b[0;32m      7\u001b[0m     \u001b[0mprint\u001b[0m\u001b[1;33m(\u001b[0m\u001b[1;34m\"You can Marry\"\u001b[0m\u001b[1;33m)\u001b[0m\u001b[1;33m\u001b[0m\u001b[1;33m\u001b[0m\u001b[0m\n",
      "\u001b[1;31mTooYoungException\u001b[0m: You are too young to marry"
     ]
    }
   ],
   "source": [
    "age=int(input(\"Enter age\"))\n",
    "if age>65:\n",
    "    raise TooOldException(\"You are too old to marry\")\n",
    "elif age<18:\n",
    "    raise TooYoungException(\"You are too young to marry\")\n",
    "else:\n",
    "    print(\"You can Marry\")"
   ]
  },
  {
   "cell_type": "code",
   "execution_count": null,
   "id": "2fe706d0",
   "metadata": {},
   "outputs": [],
   "source": [
    "#File handling \n",
    "1. Text file\n",
    "2. Binary/object file.\n"
   ]
  },
  {
   "cell_type": "code",
   "execution_count": 69,
   "id": "42454d48",
   "metadata": {},
   "outputs": [
    {
     "name": "stdout",
     "output_type": "stream",
     "text": [
      "False\n",
      "abc.txt\n",
      "w\n",
      "Is file is readble False\n",
      "Is file is Writable True\n"
     ]
    }
   ],
   "source": [
    "#1. Text Data\n",
    "#Different opeartion on file:\n",
    "\n",
    "#1. open file/create file:\n",
    "\n",
    "\n",
    "#f=open(\"filename.ext\",\"mode\")\n",
    "#here f is file pointer. that points current file. \n",
    "#eg.\n",
    "f=open(\"abc.txt\",\"w\")\n",
    "print(f.closed)\n",
    "#f.close()  #used to close the file. \n",
    "#print(f.closed)   #used to check file is open or closed\n",
    "print(f.name)\n",
    "print(f.mode)\n",
    "print(\"Is file is readble\",f.readable()) #return true if we can read it otherwise false\n",
    "print(\"Is file is Writable\",f.writable())"
   ]
  },
  {
   "cell_type": "markdown",
   "id": "13b216d6",
   "metadata": {},
   "source": [
    "#Modes of file\n",
    "1. \"r\": This is used to open existing file for read operation.The file pointer is positioned \n",
    "at the begining of the file.\n",
    "If file doesnot exist it will give error FileNotFoundError.\n",
    "\n",
    "\n",
    "2. \"w\"\n",
    "- It is used to open an existing file for write operation and it will override the content of existing file.\n",
    "-Suppose file does not exist then it will create the file and open it for write operation.\n",
    "3. \"a\"\n",
    " - open an existing file in append mode. It will not overide the existing data. \n",
    " If file doesnot exist then it will create the file and we can append it. "
   ]
  },
  {
   "cell_type": "code",
   "execution_count": 59,
   "id": "8a7987ee",
   "metadata": {},
   "outputs": [
    {
     "name": "stdout",
     "output_type": "stream",
     "text": [
      "False\n"
     ]
    }
   ],
   "source": [
    "print(f.closed)"
   ]
  },
  {
   "cell_type": "code",
   "execution_count": 71,
   "id": "6889a6f3",
   "metadata": {},
   "outputs": [],
   "source": [
    "f = open('abc1.txt','w')\n",
    "f.write('This is python class\\n')\n",
    "f.write('We will learn ML\\n')\n",
    "f.write('I am learning SQL')\n",
    "f.close()"
   ]
  },
  {
   "cell_type": "code",
   "execution_count": 72,
   "id": "0e3f76e3",
   "metadata": {},
   "outputs": [],
   "source": [
    "f = open('abc1.txt','w')\n",
    "list=[\"This is Python class\\n\",\"This is for web dev\\n\", \"This is for DS\\n\"]\n",
    "f.writelines(list)\n",
    "f.close()"
   ]
  },
  {
   "cell_type": "code",
   "execution_count": 79,
   "id": "5a7d5aca",
   "metadata": {},
   "outputs": [
    {
     "name": "stdout",
     "output_type": "stream",
     "text": [
      "['This is python class\\n', 'We will learn ML\\n', 'I am learning SQL']\n"
     ]
    }
   ],
   "source": [
    "f = open('abc1.txt','r')\n",
    "#Reading data from file\n",
    "#read() used to read all data from file\n",
    "#read(n)  Read n characters from the file\n",
    "#readline() Read only one line\n",
    "#readlines()  Read all lines in list.\n",
    "#data=f.read()\n",
    "#data=f.read(4)\n",
    "#data=f.readline()\n",
    "data=f.readlines()   #output will be in List\n",
    "print(data)\n",
    "f.close()"
   ]
  },
  {
   "cell_type": "code",
   "execution_count": 80,
   "id": "dad58ae2",
   "metadata": {},
   "outputs": [
    {
     "name": "stdout",
     "output_type": "stream",
     "text": [
      "Is file cloased? False\n",
      "Is file cloased? True\n"
     ]
    }
   ],
   "source": [
    "#The with statement\n",
    "\n",
    "#with is used while opening the file.\n",
    "#The advantage of with statement is that it will take care of closing of file\n",
    "#automatically.\n",
    "\n",
    "with open(\"xyz.txt\",\"w\") as f:\n",
    "    f.write(\"This is File handling operstions\\n\")\n",
    "    f.write(\"This is Python course\")\n",
    "    print(\"Is file cloased?\",f.closed)\n",
    "\n",
    "print(\"Is file cloased?\",f.closed)  "
   ]
  },
  {
   "cell_type": "code",
   "execution_count": 83,
   "id": "b1279231",
   "metadata": {},
   "outputs": [
    {
     "name": "stdout",
     "output_type": "stream",
     "text": [
      "0\n",
      "This \n",
      "5\n",
      "is \n",
      "8\n"
     ]
    }
   ],
   "source": [
    "#seek(), tell()   \n",
    "f=open(\"xyz.txt\",\"r\")\n",
    "\n",
    "#tell()\n",
    "#It returns current position of the cursor/file pointer\n",
    "#Position starts from 0\n",
    "print(f.tell())  #0 \n",
    "print(f.read(5)) #This\n",
    "print(f.tell())  #5\n",
    "print(f.read(3))\n",
    "print(f.tell())"
   ]
  },
  {
   "cell_type": "code",
   "execution_count": 87,
   "id": "282e74fe",
   "metadata": {},
   "outputs": [
    {
     "name": "stdout",
     "output_type": "stream",
     "text": [
      "0\n",
      "7\n",
      " File\n",
      "0\n",
      "0\n"
     ]
    }
   ],
   "source": [
    "#seek()\n",
    "f=open(\"xyz.txt\",\"r\")\n",
    "#We can use this seek() to move the cursor/file pointer from one position to other specified position.\n",
    "\n",
    "print(f.tell())  #0\n",
    "f.seek(7)   # \n",
    "print(f.tell())\n",
    "print(f.read(5))\n",
    "print(f.seek(0))\n",
    "print(f.tell())"
   ]
  }
 ],
 "metadata": {
  "kernelspec": {
   "display_name": "Python 3 (ipykernel)",
   "language": "python",
   "name": "python3"
  },
  "language_info": {
   "codemirror_mode": {
    "name": "ipython",
    "version": 3
   },
   "file_extension": ".py",
   "mimetype": "text/x-python",
   "name": "python",
   "nbconvert_exporter": "python",
   "pygments_lexer": "ipython3",
   "version": "3.9.7"
  }
 },
 "nbformat": 4,
 "nbformat_minor": 5
}
