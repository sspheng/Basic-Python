{
 "cells": [
  {
   "cell_type": "code",
   "execution_count": 2,
   "id": "cdebfe0c",
   "metadata": {},
   "outputs": [],
   "source": [
    "## Operators in Python - Operations on variables\n",
    "##1. Assignment Operator -> =\n",
    "##2. Arithmetic Operators -> +, -, *, /, **, %(Modulus), //(Floor Division)\n",
    "##3. Comparison Operators -> Boolean(True/Flase), >, <, >=, <= !=, ==\n",
    "##4. Logical Operators -> and, or, not\n",
    "##5. Indentity Operators -> is , isnot\n",
    "##6. Membrship Operators -> in, not in \n",
    "##7. Bitwise Operators - Binary Numbers(We do not use it)\n"
   ]
  },
  {
   "cell_type": "code",
   "execution_count": 3,
   "id": "c1efc330",
   "metadata": {},
   "outputs": [],
   "source": [
    "x = 10"
   ]
  },
  {
   "cell_type": "code",
   "execution_count": 4,
   "id": "85143fca",
   "metadata": {},
   "outputs": [
    {
     "data": {
      "text/plain": [
       "10"
      ]
     },
     "execution_count": 4,
     "metadata": {},
     "output_type": "execute_result"
    }
   ],
   "source": [
    "x"
   ]
  },
  {
   "cell_type": "code",
   "execution_count": 5,
   "id": "f32611d2",
   "metadata": {},
   "outputs": [
    {
     "data": {
      "text/plain": [
       "20"
      ]
     },
     "execution_count": 5,
     "metadata": {},
     "output_type": "execute_result"
    }
   ],
   "source": [
    "x+10"
   ]
  },
  {
   "cell_type": "code",
   "execution_count": 6,
   "id": "6a22242b",
   "metadata": {},
   "outputs": [
    {
     "data": {
      "text/plain": [
       "100"
      ]
     },
     "execution_count": 6,
     "metadata": {},
     "output_type": "execute_result"
    }
   ],
   "source": [
    "x*10"
   ]
  },
  {
   "cell_type": "code",
   "execution_count": 7,
   "id": "71e4191a",
   "metadata": {},
   "outputs": [
    {
     "data": {
      "text/plain": [
       "20"
      ]
     },
     "execution_count": 7,
     "metadata": {},
     "output_type": "execute_result"
    }
   ],
   "source": [
    "10*2"
   ]
  },
  {
   "cell_type": "code",
   "execution_count": 8,
   "id": "2ed84e76",
   "metadata": {},
   "outputs": [
    {
     "data": {
      "text/plain": [
       "100"
      ]
     },
     "execution_count": 8,
     "metadata": {},
     "output_type": "execute_result"
    }
   ],
   "source": [
    "10**2"
   ]
  },
  {
   "cell_type": "code",
   "execution_count": 9,
   "id": "c46f3c23",
   "metadata": {},
   "outputs": [
    {
     "data": {
      "text/plain": [
       "5.0"
      ]
     },
     "execution_count": 9,
     "metadata": {},
     "output_type": "execute_result"
    }
   ],
   "source": [
    "10/2"
   ]
  },
  {
   "cell_type": "code",
   "execution_count": 10,
   "id": "a7ee2478",
   "metadata": {},
   "outputs": [
    {
     "data": {
      "text/plain": [
       "0"
      ]
     },
     "execution_count": 10,
     "metadata": {},
     "output_type": "execute_result"
    }
   ],
   "source": [
    "10%2"
   ]
  },
  {
   "cell_type": "code",
   "execution_count": 11,
   "id": "cb4580ec",
   "metadata": {},
   "outputs": [
    {
     "data": {
      "text/plain": [
       "5.0"
      ]
     },
     "execution_count": 11,
     "metadata": {},
     "output_type": "execute_result"
    }
   ],
   "source": [
    "10/2"
   ]
  },
  {
   "cell_type": "code",
   "execution_count": 12,
   "id": "967dd4c8",
   "metadata": {},
   "outputs": [
    {
     "data": {
      "text/plain": [
       "5"
      ]
     },
     "execution_count": 12,
     "metadata": {},
     "output_type": "execute_result"
    }
   ],
   "source": [
    "10//2"
   ]
  },
  {
   "cell_type": "code",
   "execution_count": 13,
   "id": "e4ca6177",
   "metadata": {},
   "outputs": [
    {
     "data": {
      "text/plain": [
       "5"
      ]
     },
     "execution_count": 13,
     "metadata": {},
     "output_type": "execute_result"
    }
   ],
   "source": [
    "11//2"
   ]
  },
  {
   "cell_type": "code",
   "execution_count": 14,
   "id": "5dbca201",
   "metadata": {},
   "outputs": [
    {
     "data": {
      "text/plain": [
       "5.5"
      ]
     },
     "execution_count": 14,
     "metadata": {},
     "output_type": "execute_result"
    }
   ],
   "source": [
    "11/2"
   ]
  },
  {
   "cell_type": "code",
   "execution_count": 15,
   "id": "b2c25ebe",
   "metadata": {},
   "outputs": [
    {
     "data": {
      "text/plain": [
       "False"
      ]
     },
     "execution_count": 15,
     "metadata": {},
     "output_type": "execute_result"
    }
   ],
   "source": [
    "10>10"
   ]
  },
  {
   "cell_type": "code",
   "execution_count": 16,
   "id": "79b60e8e",
   "metadata": {},
   "outputs": [
    {
     "data": {
      "text/plain": [
       "False"
      ]
     },
     "execution_count": 16,
     "metadata": {},
     "output_type": "execute_result"
    }
   ],
   "source": [
    "10>12"
   ]
  },
  {
   "cell_type": "code",
   "execution_count": 17,
   "id": "c4a5ae6f",
   "metadata": {},
   "outputs": [
    {
     "data": {
      "text/plain": [
       "True"
      ]
     },
     "execution_count": 17,
     "metadata": {},
     "output_type": "execute_result"
    }
   ],
   "source": [
    "12>10"
   ]
  },
  {
   "cell_type": "code",
   "execution_count": 18,
   "id": "a22bbddc",
   "metadata": {},
   "outputs": [
    {
     "data": {
      "text/plain": [
       "False"
      ]
     },
     "execution_count": 18,
     "metadata": {},
     "output_type": "execute_result"
    }
   ],
   "source": [
    "10!=10"
   ]
  },
  {
   "cell_type": "code",
   "execution_count": 20,
   "id": "3ab3c1c9",
   "metadata": {},
   "outputs": [
    {
     "data": {
      "text/plain": [
       "True"
      ]
     },
     "execution_count": 20,
     "metadata": {},
     "output_type": "execute_result"
    }
   ],
   "source": [
    "10==10"
   ]
  },
  {
   "cell_type": "code",
   "execution_count": 22,
   "id": "b6e4a620",
   "metadata": {},
   "outputs": [],
   "source": [
    "x = 20"
   ]
  },
  {
   "cell_type": "code",
   "execution_count": 25,
   "id": "652adfcb",
   "metadata": {},
   "outputs": [
    {
     "name": "stdout",
     "output_type": "stream",
     "text": [
      "Good\n"
     ]
    }
   ],
   "source": [
    "if (x>10) or (x<20):\n",
    "    print(\"Good\")"
   ]
  },
  {
   "cell_type": "code",
   "execution_count": 28,
   "id": "843de128",
   "metadata": {},
   "outputs": [
    {
     "name": "stdout",
     "output_type": "stream",
     "text": [
      "Good\n"
     ]
    }
   ],
   "source": [
    "if not x<20:\n",
    "    print('Good')"
   ]
  },
  {
   "cell_type": "code",
   "execution_count": 29,
   "id": "09426f7d",
   "metadata": {},
   "outputs": [],
   "source": [
    "x = 20"
   ]
  },
  {
   "cell_type": "code",
   "execution_count": 34,
   "id": "a074fb4b",
   "metadata": {},
   "outputs": [],
   "source": [
    "y = 20"
   ]
  },
  {
   "cell_type": "code",
   "execution_count": 35,
   "id": "41723e96",
   "metadata": {},
   "outputs": [
    {
     "name": "stdout",
     "output_type": "stream",
     "text": [
      "Good\n"
     ]
    }
   ],
   "source": [
    "if x is y:\n",
    "    print(\"Good\")"
   ]
  },
  {
   "cell_type": "code",
   "execution_count": 36,
   "id": "06b46698",
   "metadata": {},
   "outputs": [
    {
     "data": {
      "text/plain": [
       "20"
      ]
     },
     "execution_count": 36,
     "metadata": {},
     "output_type": "execute_result"
    }
   ],
   "source": [
    "x"
   ]
  },
  {
   "cell_type": "code",
   "execution_count": 37,
   "id": "60f3e0ea",
   "metadata": {},
   "outputs": [
    {
     "data": {
      "text/plain": [
       "20"
      ]
     },
     "execution_count": 37,
     "metadata": {},
     "output_type": "execute_result"
    }
   ],
   "source": [
    "y"
   ]
  },
  {
   "cell_type": "code",
   "execution_count": 38,
   "id": "5778a44d",
   "metadata": {},
   "outputs": [],
   "source": [
    "x = 20"
   ]
  },
  {
   "cell_type": "code",
   "execution_count": 39,
   "id": "fd0dc020",
   "metadata": {},
   "outputs": [],
   "source": [
    "y = 30"
   ]
  },
  {
   "cell_type": "code",
   "execution_count": 40,
   "id": "bc398d2a",
   "metadata": {},
   "outputs": [],
   "source": [
    "if x is y:\n",
    "    print(\"Good\")"
   ]
  },
  {
   "cell_type": "code",
   "execution_count": 41,
   "id": "4d787458",
   "metadata": {},
   "outputs": [
    {
     "name": "stdout",
     "output_type": "stream",
     "text": [
      "Good\n"
     ]
    }
   ],
   "source": [
    "if x is not y:\n",
    "    print('Good')"
   ]
  },
  {
   "cell_type": "code",
   "execution_count": 43,
   "id": "2e7bbf4e",
   "metadata": {},
   "outputs": [
    {
     "name": "stdout",
     "output_type": "stream",
     "text": [
      "Good\n"
     ]
    }
   ],
   "source": [
    "if 'STRING' == 'STRING':\n",
    "    print(\"Good\")"
   ]
  },
  {
   "cell_type": "code",
   "execution_count": 44,
   "id": "4d849f9d",
   "metadata": {},
   "outputs": [],
   "source": [
    "x = 10"
   ]
  },
  {
   "cell_type": "code",
   "execution_count": 45,
   "id": "0b4ee529",
   "metadata": {},
   "outputs": [
    {
     "name": "stdout",
     "output_type": "stream",
     "text": [
      "Good\n"
     ]
    }
   ],
   "source": [
    "if x ==10:\n",
    "    print(\"Good\")"
   ]
  },
  {
   "cell_type": "code",
   "execution_count": 46,
   "id": "6b31d167",
   "metadata": {},
   "outputs": [],
   "source": [
    "if not x==10:\n",
    "    print('It is a good day today')"
   ]
  },
  {
   "cell_type": "code",
   "execution_count": 47,
   "id": "2d84f803",
   "metadata": {},
   "outputs": [],
   "source": [
    "x = [1,2,3,4]"
   ]
  },
  {
   "cell_type": "code",
   "execution_count": 48,
   "id": "1d64ccf7",
   "metadata": {},
   "outputs": [
    {
     "name": "stdout",
     "output_type": "stream",
     "text": [
      "Good\n"
     ]
    }
   ],
   "source": [
    "if 2 in x:\n",
    "    print(\"Good\")"
   ]
  },
  {
   "cell_type": "code",
   "execution_count": 49,
   "id": "edd3cc99",
   "metadata": {},
   "outputs": [],
   "source": [
    "if 6 in x:\n",
    "    print(\"Good\")"
   ]
  },
  {
   "cell_type": "code",
   "execution_count": 50,
   "id": "2fbe46aa",
   "metadata": {},
   "outputs": [
    {
     "name": "stdout",
     "output_type": "stream",
     "text": [
      "Spam ads to 6\n"
     ]
    }
   ],
   "source": [
    "if 6 not in x:\n",
    "    print(\"Spam ads to 6\")"
   ]
  },
  {
   "cell_type": "code",
   "execution_count": 51,
   "id": "3f3efe6c",
   "metadata": {},
   "outputs": [
    {
     "data": {
      "text/plain": [
       "True"
      ]
     },
     "execution_count": 51,
     "metadata": {},
     "output_type": "execute_result"
    }
   ],
   "source": [
    "20!=10"
   ]
  },
  {
   "cell_type": "code",
   "execution_count": 52,
   "id": "ed67c7a6",
   "metadata": {},
   "outputs": [
    {
     "data": {
      "text/plain": [
       "[1, 2, 3, 4]"
      ]
     },
     "execution_count": 52,
     "metadata": {},
     "output_type": "execute_result"
    }
   ],
   "source": [
    "x"
   ]
  },
  {
   "cell_type": "code",
   "execution_count": 53,
   "id": "bfa9ccdc",
   "metadata": {},
   "outputs": [],
   "source": [
    "x = 10"
   ]
  },
  {
   "cell_type": "code",
   "execution_count": 54,
   "id": "5dc38db1",
   "metadata": {},
   "outputs": [],
   "source": [
    "y = 20"
   ]
  },
  {
   "cell_type": "code",
   "execution_count": 55,
   "id": "87481d5b",
   "metadata": {},
   "outputs": [
    {
     "name": "stdout",
     "output_type": "stream",
     "text": [
      "Good\n"
     ]
    }
   ],
   "source": [
    "if x!=y:\n",
    "    print('Good')"
   ]
  },
  {
   "cell_type": "code",
   "execution_count": 57,
   "id": "e0597370",
   "metadata": {},
   "outputs": [
    {
     "data": {
      "text/plain": [
       "5.0"
      ]
     },
     "execution_count": 57,
     "metadata": {},
     "output_type": "execute_result"
    }
   ],
   "source": [
    "10/2"
   ]
  },
  {
   "cell_type": "code",
   "execution_count": 58,
   "id": "9c09452b",
   "metadata": {},
   "outputs": [
    {
     "data": {
      "text/plain": [
       "5.5"
      ]
     },
     "execution_count": 58,
     "metadata": {},
     "output_type": "execute_result"
    }
   ],
   "source": [
    "11/2"
   ]
  },
  {
   "cell_type": "code",
   "execution_count": 59,
   "id": "4dc6a569",
   "metadata": {},
   "outputs": [
    {
     "data": {
      "text/plain": [
       "5"
      ]
     },
     "execution_count": 59,
     "metadata": {},
     "output_type": "execute_result"
    }
   ],
   "source": [
    "11//2"
   ]
  },
  {
   "cell_type": "code",
   "execution_count": 60,
   "id": "add5b17d",
   "metadata": {},
   "outputs": [
    {
     "data": {
      "text/plain": [
       "1"
      ]
     },
     "execution_count": 60,
     "metadata": {},
     "output_type": "execute_result"
    }
   ],
   "source": [
    "11%2"
   ]
  },
  {
   "cell_type": "code",
   "execution_count": 56,
   "id": "fed08a9a",
   "metadata": {},
   "outputs": [],
   "source": [
    "## If...Else Logic"
   ]
  },
  {
   "cell_type": "code",
   "execution_count": 61,
   "id": "b88d7c5a",
   "metadata": {},
   "outputs": [],
   "source": [
    "x = 10"
   ]
  },
  {
   "cell_type": "code",
   "execution_count": 65,
   "id": "31941565",
   "metadata": {},
   "outputs": [
    {
     "name": "stdout",
     "output_type": "stream",
     "text": [
      "Avg Balance Maintained\n",
      "All is good\n"
     ]
    }
   ],
   "source": [
    "if x==10:\n",
    "    print(\"Avg Balance Maintained\")\n",
    "    print(\"All is good\")\n",
    "else:\n",
    "    print(\"Not maintained\")"
   ]
  },
  {
   "cell_type": "code",
   "execution_count": 64,
   "id": "f7c32039",
   "metadata": {},
   "outputs": [
    {
     "name": "stdout",
     "output_type": "stream",
     "text": [
      "Good\n"
     ]
    }
   ],
   "source": [
    "if x==10:\n",
    "    print('Good')\n",
    "    "
   ]
  },
  {
   "cell_type": "code",
   "execution_count": 66,
   "id": "ac147431",
   "metadata": {},
   "outputs": [
    {
     "name": "stdout",
     "output_type": "stream",
     "text": [
      "Not Good\n"
     ]
    }
   ],
   "source": [
    "if x>10:\n",
    "    print(\"Good\")\n",
    "elif x<10:\n",
    "    print(\"Fine\")\n",
    "else:\n",
    "    print(\"Not Good\")"
   ]
  },
  {
   "cell_type": "code",
   "execution_count": 72,
   "id": "3fef7d8f",
   "metadata": {},
   "outputs": [
    {
     "name": "stdout",
     "output_type": "stream",
     "text": [
      "Please enter the age:70\n"
     ]
    }
   ],
   "source": [
    "age = input(\"Please enter the age:\")"
   ]
  },
  {
   "cell_type": "code",
   "execution_count": 71,
   "id": "02d79e36",
   "metadata": {},
   "outputs": [
    {
     "data": {
      "text/plain": [
       "str"
      ]
     },
     "execution_count": 71,
     "metadata": {},
     "output_type": "execute_result"
    }
   ],
   "source": [
    "type(age)"
   ]
  },
  {
   "cell_type": "code",
   "execution_count": 76,
   "id": "7bf88e3f",
   "metadata": {},
   "outputs": [
    {
     "data": {
      "text/plain": [
       "79"
      ]
     },
     "execution_count": 76,
     "metadata": {},
     "output_type": "execute_result"
    }
   ],
   "source": [
    "int('79')"
   ]
  },
  {
   "cell_type": "code",
   "execution_count": 79,
   "id": "9ff10c8e",
   "metadata": {},
   "outputs": [
    {
     "name": "stdout",
     "output_type": "stream",
     "text": [
      "Enter the age89\n",
      "Eligible to Vote\n"
     ]
    }
   ],
   "source": [
    "age=int(input(\"Enter the age\"))\n",
    "\n",
    "if age>=18:\n",
    "    print(\"Eligible to Vote\")\n",
    "else:\n",
    "    print(\"Not eligible to Vote\")"
   ]
  },
  {
   "cell_type": "code",
   "execution_count": 82,
   "id": "a3fb346a",
   "metadata": {},
   "outputs": [],
   "source": [
    "import pandas as pd"
   ]
  },
  {
   "cell_type": "code",
   "execution_count": 83,
   "id": "20c2f83e",
   "metadata": {},
   "outputs": [],
   "source": [
    "## Write a program which takes the percentage as an input from the user.\n",
    "## > 90 - \"Grade is A\"\n",
    "## >80 <=90 - \"Grade is B\"\n",
    "##>=60 <=80 - \"Grade is C\"\n",
    "## below 60 - \"Grade is D\""
   ]
  },
  {
   "cell_type": "code",
   "execution_count": 1,
   "id": "778a7032",
   "metadata": {},
   "outputs": [
    {
     "name": "stdout",
     "output_type": "stream",
     "text": [
      "enter the percentage72\n",
      "Grade is C\n"
     ]
    }
   ],
   "source": [
    "Percentage = int(input(\"enter the percentage\"))\n",
    "if Percentage>90:\n",
    "\tprint(\"Grade is A\")\n",
    "elif Percentage>80 and Percentage<=90:\n",
    "\tprint(\"Grade is B\")\n",
    "elif Percentage>=60 and Percentage<=80:\n",
    "\tprint(\"Grade is C\")\n",
    "else:\n",
    "\tprint(\"Grade is D\")"
   ]
  },
  {
   "cell_type": "code",
   "execution_count": null,
   "id": "6fc44c63",
   "metadata": {},
   "outputs": [],
   "source": [
    "Percentage = int(input(\"enter the percentage\"))\n",
    "if Percentage>90:\n",
    "\tprint(\"Grade is A\")\n",
    "elif Percentage>80 and Percentage<=90:\n",
    "\tprint(\"Grade is B\")\n",
    "elif Percentage>=60 and Percentage<=80:\n",
    "\tprint(\"Grade is C\")\n",
    "else:\n",
    "\tprint(\"Grade is D\")"
   ]
  },
  {
   "cell_type": "code",
   "execution_count": 86,
   "id": "426523b6",
   "metadata": {},
   "outputs": [
    {
     "name": "stdout",
     "output_type": "stream",
     "text": [
      "Hi\n"
     ]
    }
   ],
   "source": [
    "print('Hi')"
   ]
  },
  {
   "cell_type": "code",
   "execution_count": 87,
   "id": "8d40e5a2",
   "metadata": {},
   "outputs": [
    {
     "name": "stdout",
     "output_type": "stream",
     "text": [
      "hi\n"
     ]
    }
   ],
   "source": [
    "print(\"hi\")"
   ]
  },
  {
   "cell_type": "code",
   "execution_count": 88,
   "id": "2940792d",
   "metadata": {},
   "outputs": [
    {
     "name": "stdout",
     "output_type": "stream",
     "text": [
      "enter the percentage of your marks72\n",
      "Grade is C\n"
     ]
    }
   ],
   "source": [
    "Grade = int(input(\"enter the percentage of your marks\"))\n",
    "if Grade >90:\n",
    "    print (\"Grade is A\")\n",
    "elif Grade >80 and Grade <=90:\n",
    "    print (\"Grade is B\")\n",
    "elif Grade >=60 and Grade <=80:\n",
    "    print (\"Grade is C\")\n",
    "else:\n",
    "    print (\"Grade is D\")"
   ]
  },
  {
   "cell_type": "code",
   "execution_count": 9,
   "id": "c8232e22",
   "metadata": {},
   "outputs": [
    {
     "name": "stdout",
     "output_type": "stream",
     "text": [
      "Enter the %85\n",
      "Grade is B\n"
     ]
    }
   ],
   "source": [
    "percentage=int(input('Enter the %'))\n",
    "\n",
    "if percentage>90:\n",
    "    print('Grade is A')\n",
    "elif percentage>80 and percentage<=90:\n",
    "     print('Grade is B')\n",
    "elif percentage>=60 and percentage<=80:\n",
    "     print ('Grade is C')\n",
    "else:\n",
    "     print ('Grade is D')"
   ]
  },
  {
   "cell_type": "code",
   "execution_count": 7,
   "id": "1fb53103",
   "metadata": {},
   "outputs": [],
   "source": [
    "## Electricity Bill \n",
    "## Write a programm to accept the units from the user\n",
    "## First 100 units - Free no charge\n",
    "## Next 100 units - Rs 5 per unit\n",
    "## After 200 units - RS 10 per unit\n",
    "\n",
    "## Calcuate the bill amount\n",
    "\n",
    "##350"
   ]
  },
  {
   "cell_type": "code",
   "execution_count": 4,
   "id": "40741326",
   "metadata": {},
   "outputs": [
    {
     "name": "stdout",
     "output_type": "stream",
     "text": [
      "Please enter the number of units consumed350\n",
      "The total amount that needs to be paid is : 2000\n"
     ]
    }
   ],
   "source": [
    "amount = 0\n",
    "\n",
    "units = int(input(\"Please enter the number of units consumed\"))\n",
    "\n",
    "if units <=100:\n",
    "    amount = 0\n",
    "elif units > 100 and units <=200:\n",
    "    amount = (units-100)*5\n",
    "else:\n",
    "    amount = 500+(units-200)*10\n",
    "    \n",
    "print(\"The total amount that needs to be paid is :\", amount)\n",
    "\n"
   ]
  },
  {
   "cell_type": "code",
   "execution_count": 6,
   "id": "3235611a",
   "metadata": {},
   "outputs": [
    {
     "name": "stdout",
     "output_type": "stream",
     "text": [
      "enter the unit_bill350\n",
      "the total amount that needs to be paid is: 2000\n"
     ]
    }
   ],
   "source": [
    "unit = int(input(\"enter the unit_bill\"))\n",
    "if unit<=100:\n",
    "    amount = 0\n",
    "elif unit>=100 and units<=200:\n",
    "    amount = (unit-100)*5\n",
    "else:\n",
    "    amount =500+(units-200)*10\n",
    "print(\"the total amount that needs to be paid is:\", amount)"
   ]
  },
  {
   "cell_type": "code",
   "execution_count": 7,
   "id": "09cff968",
   "metadata": {},
   "outputs": [
    {
     "name": "stdout",
     "output_type": "stream",
     "text": [
      "enter the unit350\n",
      "2000\n"
     ]
    }
   ],
   "source": [
    "amount = 0\n",
    "E_bill = int(input(\"enter the unit\"))\n",
    "if E_bill <=100:\n",
    "    amount = 0\n",
    "elif E_bill >100 and E_bill <= 200:\n",
    "    amount = (E-bill-100)*5\n",
    "else:\n",
    "    amount = 500+(E_bill-200)*10\n",
    "\n",
    "print(amount)"
   ]
  },
  {
   "cell_type": "code",
   "execution_count": 10,
   "id": "eea257a0",
   "metadata": {},
   "outputs": [
    {
     "name": "stdout",
     "output_type": "stream",
     "text": [
      "please enter the number of units consumed350\n",
      "The total amount that needs to be paid is: 2000\n"
     ]
    }
   ],
   "source": [
    "amount = 0\n",
    "\n",
    "units = int(input(\"please enter the number of units consumed\"))\n",
    "\n",
    "if units <=100:\n",
    "    amount = 0\n",
    "elif units > 100 and units <=200:\n",
    "    amount =(units-100)*5\n",
    "else:\n",
    "    amount = 500+(units-200)*10\n",
    "            \n",
    "print (\"The total amount that needs to be paid is:\", amount)"
   ]
  },
  {
   "cell_type": "code",
   "execution_count": 14,
   "id": "ff844d7e",
   "metadata": {},
   "outputs": [
    {
     "name": "stdout",
     "output_type": "stream",
     "text": [
      "Enter the Units70\n",
      "500\n"
     ]
    }
   ],
   "source": [
    "Units= int(input('Enter the Units'))\n",
    "\n",
    "if Units==100:\n",
    "    print (100*0)\n",
    "elif Units<=200:\n",
    "      print (100*5)\n",
    "else:\n",
    "       print (200*10)"
   ]
  },
  {
   "cell_type": "code",
   "execution_count": 13,
   "id": "c89b2836",
   "metadata": {},
   "outputs": [
    {
     "name": "stdout",
     "output_type": "stream",
     "text": [
      "enter the unit_bill250\n",
      "the total amount that needs to be paid is: 1000\n"
     ]
    }
   ],
   "source": [
    "unit = int(input(\"enter the unit_bill\"))\n",
    "if unit<=100:\n",
    "    amount = 0\n",
    "elif unit>=100 and unit<=200:\n",
    "    amount = (unit-100)*5\n",
    "else:\n",
    "    amount =500+(unit-200)*10\n",
    "print(\"the total amount that needs to be paid is:\", amount)"
   ]
  },
  {
   "cell_type": "code",
   "execution_count": 20,
   "id": "d97b2a4a",
   "metadata": {},
   "outputs": [
    {
     "name": "stdout",
     "output_type": "stream",
     "text": [
      "Enter number_of_units_consumed350\n",
      "Electricity_Bill to be paid: 2000\n"
     ]
    }
   ],
   "source": [
    "Electricity_Bill=0\n",
    "number_of_units_consumed=int(input(\"Enter number_of_units_consumed\"))\n",
    "if number_of_units_consumed<=100:\n",
    "    Electricity_Bill=0\n",
    "elif number_of_units_consumed>100 and number_of_units_consumed<=200:\n",
    "    Electricity_Bill=(number_of_units_consumed-100)*5\n",
    "    \n",
    "else:\n",
    "    Electricity_Bill=500+(number_of_units_consumed-200)*10\n",
    "\n",
    "print(\"Electricity_Bill to be paid:\",Electricity_Bill)"
   ]
  },
  {
   "cell_type": "code",
   "execution_count": 21,
   "id": "efefe92b",
   "metadata": {},
   "outputs": [
    {
     "name": "stdout",
     "output_type": "stream",
     "text": [
      "enter the %80\n",
      "grade is b\n"
     ]
    }
   ],
   "source": [
    "percentage=int(input(\"enter the %\"))\n",
    "if percentage>=90 and percentage <=100:\n",
    "    print(\"grade is a\")\n",
    "elif percentage>=80 and percentage <=90:\n",
    "    print(\"grade is b\")\n",
    "elif percentage>=60 and percentage<=80:\n",
    "    print(\"grade is c\")\n",
    "else:\n",
    "    print(\"grade is d\")"
   ]
  },
  {
   "cell_type": "code",
   "execution_count": 25,
   "id": "eab8f24c",
   "metadata": {},
   "outputs": [
    {
     "name": "stdout",
     "output_type": "stream",
     "text": [
      "please enter the number of units consumed350\n",
      "the total amount to be paid for the units 2000\n"
     ]
    }
   ],
   "source": [
    "amount=0\n",
    "\n",
    "units = int(input('please enter the number of units consumed'))\n",
    "\n",
    "if units <=100:\n",
    "    amount = 0\n",
    "    \n",
    "elif units>100 and units<=200:\n",
    "    amount = (units-100)*5\n",
    "    \n",
    "else :\n",
    "    amount = 500+(units-200)*10\n",
    "    \n",
    "print('the total amount to be paid for the units', amount)"
   ]
  },
  {
   "cell_type": "code",
   "execution_count": 42,
   "id": "92fa3d72",
   "metadata": {},
   "outputs": [
    {
     "name": "stdout",
     "output_type": "stream",
     "text": [
      "please enter number of units consumed350\n",
      "the total amount that needs to be paid -  2000\n"
     ]
    }
   ],
   "source": [
    "amount=0\n",
    "units=int(input(\"please enter number of units consumed\"))\n",
    "if units<=100:\n",
    "    amount=0\n",
    "elif units>100 and units<=200:\n",
    "    amount=(units-100)*5  \n",
    "else:\n",
    "    amount=500+(units-200)*10\n",
    "print(\"the total amount that needs to be paid - \", amount)"
   ]
  },
  {
   "cell_type": "code",
   "execution_count": 40,
   "id": "6fae6025",
   "metadata": {},
   "outputs": [
    {
     "name": "stdout",
     "output_type": "stream",
     "text": [
      "The total amount to be paid\n"
     ]
    }
   ],
   "source": [
    "print(\"The total amount to be paid\")"
   ]
  },
  {
   "cell_type": "code",
   "execution_count": 38,
   "id": "6a1c4d78",
   "metadata": {},
   "outputs": [
    {
     "name": "stdout",
     "output_type": "stream",
     "text": [
      "enter the unit consumed:250\n",
      "1000\n"
     ]
    }
   ],
   "source": [
    "amount=0\n",
    "unit=int(input(\"enter the unit consumed:\"))\n",
    "if unit<=100:\n",
    "    amount = 0\n",
    "elif unit>100 and unit<=200:\n",
    "    amount= (unit-100)*5\n",
    "else:\n",
    "    amount=500+(unit-200)*10  \n",
    "print(amount)"
   ]
  },
  {
   "cell_type": "code",
   "execution_count": 39,
   "id": "f7f676b8",
   "metadata": {},
   "outputs": [
    {
     "name": "stdout",
     "output_type": "stream",
     "text": [
      "Please enter your unit here:350\n",
      "your bill amount is: 2000\n"
     ]
    }
   ],
   "source": [
    "unit=int(input(\"Please enter your unit here:\"))\n",
    "if 0 <= unit <= 100:\n",
    "    print(\"your bill is free,no fee\")\n",
    "elif 101 <= unit <= 200:\n",
    "    print(\"your bill amount is:\",(unit-100)*5)\n",
    "else:\n",
    "    print(\"your bill amount is:\",(unit-200)*10+100*5)"
   ]
  },
  {
   "cell_type": "code",
   "execution_count": 47,
   "id": "c33e8e71",
   "metadata": {},
   "outputs": [
    {
     "name": "stdout",
     "output_type": "stream",
     "text": [
      "enter the unit350\n",
      "the total amount that needs to be paid is 2000\n"
     ]
    }
   ],
   "source": [
    "E_bill = 0\n",
    "amount = int(input(\"enter the unit\"))\n",
    "if amount<=100:\n",
    "    E_bill = 0\n",
    "elif amount >100 and amount <= 200:\n",
    "    E_bill = (amount - 100)*5\n",
    "else:\n",
    "    E_bill = 500 +(amount- 200)*10\n",
    "    \n",
    "print (\"the total amount that needs to be paid is\",E_bill)"
   ]
  },
  {
   "cell_type": "code",
   "execution_count": 57,
   "id": "4565af2c",
   "metadata": {},
   "outputs": [
    {
     "name": "stdout",
     "output_type": "stream",
     "text": [
      "Enter the Units consumed350\n",
      "Total Amount that needs to be paid- 2000\n"
     ]
    }
   ],
   "source": [
    "Units= int(input('Enter the Units consumed'))\n",
    "\n",
    "if Units<=100:\n",
    "    res=0\n",
    "elif Units>100 and Units<=200:\n",
    "    res=(Units-100)*5\n",
    "else:\n",
    "    res=500+(Units-200)*10\n",
    "    \n",
    "print(\"Total Amount that needs to be paid-\",res)"
   ]
  },
  {
   "cell_type": "code",
   "execution_count": 58,
   "id": "238d11ad",
   "metadata": {},
   "outputs": [
    {
     "data": {
      "text/plain": [
       "2000"
      ]
     },
     "execution_count": 58,
     "metadata": {},
     "output_type": "execute_result"
    }
   ],
   "source": [
    "res"
   ]
  },
  {
   "cell_type": "code",
   "execution_count": 59,
   "id": "18ac2291",
   "metadata": {},
   "outputs": [],
   "source": [
    "## Take the inout from the user\n",
    "## 2 (Even Number)\n",
    "## not divisible by 2 (Odd NUmber)"
   ]
  },
  {
   "cell_type": "code",
   "execution_count": 60,
   "id": "cf4e19e6",
   "metadata": {},
   "outputs": [
    {
     "ename": "SyntaxError",
     "evalue": "invalid syntax (3739805957.py, line 2)",
     "output_type": "error",
     "traceback": [
      "\u001b[0;36m  File \u001b[0;32m\"/var/folders/np/z13y5s3n2jlc7d6fgfm132gm0000gn/T/ipykernel_20329/3739805957.py\"\u001b[0;36m, line \u001b[0;32m2\u001b[0m\n\u001b[0;31m    if (num / 2)\u001b[0m\n\u001b[0m                 ^\u001b[0m\n\u001b[0;31mSyntaxError\u001b[0m\u001b[0;31m:\u001b[0m invalid syntax\n"
     ]
    }
   ],
   "source": [
    "num = int(input(\"Enter a number: \"))\n",
    "if (num / 2) \n",
    "   print(\"num is Even\")\n",
    "else:\n",
    "   print(\"num is Odd\")"
   ]
  },
  {
   "cell_type": "code",
   "execution_count": null,
   "id": "4fe01822",
   "metadata": {},
   "outputs": [],
   "source": [
    "num=int(input(\"enter the num:\"))\n",
    "if num%2=0:\n",
    "    print(\"enter num is even\")\n",
    "else:\n",
    "    print(\"the num is odd\")"
   ]
  },
  {
   "cell_type": "code",
   "execution_count": null,
   "id": "34789588",
   "metadata": {},
   "outputs": [],
   "source": [
    "N = int(input(\"Enter a number: \"))\n",
    "i = 1\n",
    "while(i <= N):\n",
    "    if (i % 2) == 0:\n",
    "        print('EVEN')\n",
    "    else:\n",
    "        print('ODD')\n",
    "\n",
    "    i += 1"
   ]
  },
  {
   "cell_type": "code",
   "execution_count": 61,
   "id": "d5ff1033",
   "metadata": {},
   "outputs": [
    {
     "name": "stdout",
     "output_type": "stream",
     "text": [
      "enter the unit consumed:350\n",
      "2000\n"
     ]
    }
   ],
   "source": [
    "amount=0\n",
    "unit=int(input(\"enter the unit consumed:\"))\n",
    "if unit<=100:\n",
    "    amount=0\n",
    "elif unit>100 and unit<=200:\n",
    "    amount= (unit-100)*5\n",
    "else:\n",
    "    amount=500+(unit-200)*10  \n",
    "print(amount)"
   ]
  },
  {
   "cell_type": "code",
   "execution_count": 64,
   "id": "d23caf32",
   "metadata": {},
   "outputs": [
    {
     "name": "stdout",
     "output_type": "stream",
     "text": [
      "Please enter the number33\n",
      "Odd Number\n"
     ]
    }
   ],
   "source": [
    "x = int(input(\"Please enter the number\"))\n",
    "\n",
    "if (x%2==0):\n",
    "    print(\"Even number\")\n",
    "else:\n",
    "    print(\"Odd Number\")"
   ]
  },
  {
   "cell_type": "code",
   "execution_count": 65,
   "id": "25a98d12",
   "metadata": {},
   "outputs": [],
   "source": [
    "## Take three inputs from the user in three different variable\n",
    "## Find the largest number out of those three\n"
   ]
  },
  {
   "cell_type": "code",
   "execution_count": 66,
   "id": "90776b1b",
   "metadata": {},
   "outputs": [
    {
     "name": "stdout",
     "output_type": "stream",
     "text": [
      "enter the number2\n",
      "odd\n"
     ]
    }
   ],
   "source": [
    "number=int(input(\"enter the number\"))\n",
    "if (number/2==0):\n",
    "    print(\"even\")\n",
    "else:\n",
    "    print(\"odd\")"
   ]
  },
  {
   "cell_type": "code",
   "execution_count": 67,
   "id": "21feb29a",
   "metadata": {},
   "outputs": [
    {
     "data": {
      "text/plain": [
       "1.0"
      ]
     },
     "execution_count": 67,
     "metadata": {},
     "output_type": "execute_result"
    }
   ],
   "source": [
    "2/2"
   ]
  },
  {
   "cell_type": "code",
   "execution_count": 69,
   "id": "362bde86",
   "metadata": {},
   "outputs": [
    {
     "name": "stdout",
     "output_type": "stream",
     "text": [
      "enter the  number5\n",
      "odd number\n"
     ]
    }
   ],
   "source": [
    "x = int(input(\"enter the  number\"))\n",
    "\n",
    "if (x%2==0):\n",
    "    print(\"even number\")\n",
    "else:\n",
    "    print(\"odd number\")"
   ]
  },
  {
   "cell_type": "code",
   "execution_count": 71,
   "id": "13c0c72d",
   "metadata": {},
   "outputs": [
    {
     "name": "stdout",
     "output_type": "stream",
     "text": [
      "Please enter the number33\n",
      "Odd number\n"
     ]
    }
   ],
   "source": [
    "x=int(input(\"Please enter the number\"))\n",
    "\n",
    "if (x%2==0):\n",
    "    print(\"Even number\")\n",
    "else:\n",
    "     print(\"Odd number\")"
   ]
  },
  {
   "cell_type": "code",
   "execution_count": 75,
   "id": "54d1e821",
   "metadata": {},
   "outputs": [
    {
     "name": "stdout",
     "output_type": "stream",
     "text": [
      "please enter the number33\n",
      "odd number\n"
     ]
    }
   ],
   "source": [
    "Result = int(input(\"please enter the number\"))\n",
    "if (Result%2==0):\n",
    "    print (\"even number\")\n",
    "else:\n",
    "    print(\"odd number\")"
   ]
  },
  {
   "cell_type": "code",
   "execution_count": 73,
   "id": "acf588b5",
   "metadata": {},
   "outputs": [
    {
     "data": {
      "text/plain": [
       "5"
      ]
     },
     "execution_count": 73,
     "metadata": {},
     "output_type": "execute_result"
    }
   ],
   "source": [
    "10//2"
   ]
  },
  {
   "cell_type": "code",
   "execution_count": 77,
   "id": "3dc965a9",
   "metadata": {},
   "outputs": [
    {
     "name": "stdout",
     "output_type": "stream",
     "text": [
      "enter the fist number10\n",
      "enter 2nd number12\n",
      "enter 3e Number11\n",
      "y is greater\n"
     ]
    }
   ],
   "source": [
    "x=int(input(\"enter the fist number\"))\n",
    "y=int(input(\"enter 2nd number\"))\n",
    "z=int(input(\"enter 3e Number\"))\n",
    "if x>y and x>z:\n",
    "    print(\"x is greater\")\n",
    "elif y>x and y>z:\n",
    "    print(\"y is greater\")\n",
    "else:\n",
    "    print(\"z is greater\")"
   ]
  },
  {
   "cell_type": "code",
   "execution_count": 84,
   "id": "de4d1b28",
   "metadata": {},
   "outputs": [
    {
     "name": "stdout",
     "output_type": "stream",
     "text": [
      "the largest number is 22\n"
     ]
    }
   ],
   "source": [
    "num1=10\n",
    "num2=14\n",
    "num3=22\n",
    "\n",
    "if (num1>num2) and (num1>num3):\n",
    "    largest=num1\n",
    "elif (num2>num1) and (num2>num3):\n",
    "    largest=num2\n",
    "else:\n",
    "     largest=num3\n",
    "\n",
    "print(\"the largest number is\", largest)"
   ]
  },
  {
   "cell_type": "code",
   "execution_count": 85,
   "id": "71e70183",
   "metadata": {},
   "outputs": [
    {
     "name": "stdout",
     "output_type": "stream",
     "text": [
      "enter A number:11\n",
      "enter B number:12\n",
      "enter C number:22\n"
     ]
    }
   ],
   "source": [
    "A=int(input('enter A number:'))\n",
    "B=int(input('enter B number:'))\n",
    "C=int(input('enter C number:'))\n",
    "if A>B>C:\n",
    "    print (\"A greatest\")\n",
    "elif B>A>C:\n",
    "    print (\"B greatest\")\n",
    "elif C>A>B:\n",
    "    print (\"C greatest\")"
   ]
  },
  {
   "cell_type": "code",
   "execution_count": 86,
   "id": "074502a4",
   "metadata": {},
   "outputs": [
    {
     "name": "stdout",
     "output_type": "stream",
     "text": [
      "please enter first number11\n",
      "please enter second number22\n",
      "please enter third number33\n",
      "Largest number is- 33\n"
     ]
    }
   ],
   "source": [
    "x= int(input('please enter first number')) \n",
    "y= int(input('please enter second number'))\n",
    "z= int(input('please enter third number'))\n",
    "\n",
    "if x>y and y>z:\n",
    "    print ('Largest number is-',x)\n",
    "    \n",
    "elif y>x and y>z:\n",
    "    print ('Largest number is-',y)\n",
    "    \n",
    "else:\n",
    "    print ('Largest number is-',z)"
   ]
  },
  {
   "cell_type": "code",
   "execution_count": 87,
   "id": "baf2de3a",
   "metadata": {},
   "outputs": [
    {
     "name": "stdout",
     "output_type": "stream",
     "text": [
      "My name is Arif\n"
     ]
    },
    {
     "ename": "TypeError",
     "evalue": "'NoneType' object is not callable",
     "output_type": "error",
     "traceback": [
      "\u001b[0;31m---------------------------------------------------------------------------\u001b[0m",
      "\u001b[0;31mTypeError\u001b[0m                                 Traceback (most recent call last)",
      "\u001b[0;32m/var/folders/np/z13y5s3n2jlc7d6fgfm132gm0000gn/T/ipykernel_20329/128447967.py\u001b[0m in \u001b[0;36m<module>\u001b[0;34m\u001b[0m\n\u001b[0;32m----> 1\u001b[0;31m \u001b[0mprint\u001b[0m\u001b[0;34m(\u001b[0m\u001b[0;34m\"My name is Arif\"\u001b[0m\u001b[0;34m)\u001b[0m \u001b[0;34m(\u001b[0m\u001b[0;34m'MOkhtar'\u001b[0m\u001b[0;34m)\u001b[0m\u001b[0;34m\u001b[0m\u001b[0;34m\u001b[0m\u001b[0m\n\u001b[0m",
      "\u001b[0;31mTypeError\u001b[0m: 'NoneType' object is not callable"
     ]
    }
   ],
   "source": [
    "print(\"My name is Arif\")"
   ]
  },
  {
   "cell_type": "code",
   "execution_count": 88,
   "id": "5ef927a4",
   "metadata": {},
   "outputs": [],
   "source": [
    "x = 'Data Analyst'"
   ]
  },
  {
   "cell_type": "code",
   "execution_count": 92,
   "id": "6c8df844",
   "metadata": {},
   "outputs": [
    {
     "name": "stdout",
     "output_type": "stream",
     "text": [
      "My job role is -  Data Analyst\n"
     ]
    }
   ],
   "source": [
    "print(\"My job role is - \",x)"
   ]
  },
  {
   "cell_type": "code",
   "execution_count": 94,
   "id": "3ae4dc49",
   "metadata": {},
   "outputs": [
    {
     "name": "stdout",
     "output_type": "stream",
     "text": [
      "enter the number11\n",
      "enter the number22\n",
      "enter the number33\n",
      "Z is the largest number\n"
     ]
    }
   ],
   "source": [
    "x = int(input(\"enter the number\"))\n",
    "y =int(input(\"enter the number\"))\n",
    "z =int(input(\"enter the number\"))\n",
    "if (x>y) and (x>z):\n",
    "    print(\"X is the largest number\")\n",
    "elif (x>z) and (y>z):\n",
    "    print(\"Y is the largest number\")\n",
    "else:\n",
    "    print(\"Z is the largest number\")"
   ]
  },
  {
   "cell_type": "code",
   "execution_count": null,
   "id": "2cb71cbd",
   "metadata": {},
   "outputs": [],
   "source": []
  }
 ],
 "metadata": {
  "kernelspec": {
   "display_name": "Python 3 (ipykernel)",
   "language": "python",
   "name": "python3"
  },
  "language_info": {
   "codemirror_mode": {
    "name": "ipython",
    "version": 3
   },
   "file_extension": ".py",
   "mimetype": "text/x-python",
   "name": "python",
   "nbconvert_exporter": "python",
   "pygments_lexer": "ipython3",
   "version": "3.9.7"
  }
 },
 "nbformat": 4,
 "nbformat_minor": 5
}
